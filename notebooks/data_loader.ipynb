{
 "cells": [
  {
   "cell_type": "code",
   "execution_count": 1,
   "id": "3b434c9f-5d77-47a7-9a23-a001ab6460db",
   "metadata": {},
   "outputs": [],
   "source": [
    "import os\n",
    "import json\n",
    "import pandas as pd\n",
    "import numpy as np\n",
    "import geopandas as gpd\n",
    "from shapely.geometry import Point, Polygon"
   ]
  },
  {
   "cell_type": "markdown",
   "id": "299fd5bf-8b53-47d1-bc55-31a46bae5820",
   "metadata": {},
   "source": [
    "## Get parameter-group 1: FARM, location, crop name, yield, area"
   ]
  },
  {
   "cell_type": "code",
   "execution_count": 9,
   "id": "874bcbd9-57f7-4372-97c7-9238b2576da9",
   "metadata": {},
   "outputs": [],
   "source": [
    "# data loader\n",
    "\n",
    "# get farm data\n",
    "def get_farm_data(farm_id):\n",
    "    # dir = os.path.dirname(__file__)\n",
    "    dir = os.getcwd()\n",
    "    farm_data_path = os.path.join(dir, '../data/test/litefarm_test.csv')\n",
    "    df = pd.read_csv(farm_data_path)\n",
    "    \n",
    "    farm = df.query(f\"farm_id == '{farm_id}'\")\n",
    "    \n",
    "    area = farm[\"area_in_m2\"].iloc[0] * 0.0001  # Litefarm database use m^2 while holos calculation use ha\n",
    "    crop_yield = farm[\"yield_kg\"].iloc[0] / area  # kg/ha\n",
    "    location = [Point(x, y) for x, y in zip(df['lon'], df['lat'])]\n",
    "    crop_name = farm[\"common_crop_name\"].iloc[0]\n",
    "    \n",
    "    return {'area': area, 'location': location, 'crop': crop_name, 'yield': crop_yield}"
   ]
  },
  {
   "cell_type": "code",
   "execution_count": 10,
   "id": "f16af958-9271-4ea0-80ce-da183e266046",
   "metadata": {},
   "outputs": [
    {
     "data": {
      "text/plain": [
       "{'area': 0.1409,\n",
       " 'location': [<POINT (-71.519 46.476)>],\n",
       " 'crop': 'Soybean',\n",
       " 'yield': 153158.2682753726}"
      ]
     },
     "execution_count": 10,
     "metadata": {},
     "output_type": "execute_result"
    }
   ],
   "source": [
    "# test\n",
    "farm_id = '0369f026-1f90-11ee-b788-0242ac150004'\n",
    "get_farm_data(farm_id)"
   ]
  },
  {
   "cell_type": "markdown",
   "id": "ea60ea93-3de4-4bf6-97f5-34a7d4b7273d",
   "metadata": {},
   "source": [
    "## Get parameter-group 2: MODIFIERS / reduction factors, RF_*"
   ]
  },
  {
   "cell_type": "code",
   "execution_count": 20,
   "id": "dd3e0961-69c2-40d9-a0a3-c1ea765884c4",
   "metadata": {},
   "outputs": [],
   "source": [
    "def get_province():\n",
    "    # get the province base on the farm location\n",
    "    farm_data = get_farm_data(farm_id)\n",
    "    farm_point = gpd.GeoDataFrame({'geometry': farm_data[\"location\"]}, crs=\"EPSG:4326\")\n",
    "        \n",
    "    dir = os.getcwd()\n",
    "    province_shp_path = os.path.join(dir, '../data/external/provinces_shp')\n",
    "    provinces = gpd.read_file(province_shp_path)\n",
    "    provinces = provinces.to_crs(\"EPSG:4326\") \n",
    "\n",
    "    province = gpd.sjoin(farm_point, \n",
    "                         provinces[[\"PRENAME\", \"geometry\"]], \n",
    "                         how='left', \n",
    "                         predicate='within').drop(columns=['index_right'])\n",
    "    \n",
    "    return province[\"PRENAME\"].iloc[0]"
   ]
  },
  {
   "cell_type": "code",
   "execution_count": 21,
   "id": "f64d669b-a944-435d-9b3d-2dcdc02491b6",
   "metadata": {},
   "outputs": [
    {
     "data": {
      "text/plain": [
       "'Quebec'"
      ]
     },
     "execution_count": 21,
     "metadata": {},
     "output_type": "execute_result"
    }
   ],
   "source": [
    "# test\n",
    "get_province()"
   ]
  },
  {
   "cell_type": "code",
   "execution_count": 40,
   "id": "9ae56dfd-798a-496b-8d97-5a411075da22",
   "metadata": {},
   "outputs": [],
   "source": [
    "def get_region():\n",
    "    province = get_province()\n",
    "    western_canada = [\n",
    "        'Alberta', 'British Columbia', 'Manitoba', \n",
    "        'Saskatchewan', 'Northwest Territories', 'Nunavut'\n",
    "    ]\n",
    "    \n",
    "    if province in western_canada:\n",
    "        return 'western_canada'\n",
    "    else:\n",
    "        return 'eastern_canada'"
   ]
  },
  {
   "cell_type": "code",
   "execution_count": 41,
   "id": "9575930d-f194-45a5-8470-aabb493200d4",
   "metadata": {},
   "outputs": [
    {
     "data": {
      "text/plain": [
       "'eastern_canada'"
      ]
     },
     "execution_count": 41,
     "metadata": {},
     "output_type": "execute_result"
    }
   ],
   "source": [
    "# test\n",
    "get_region()"
   ]
  },
  {
   "cell_type": "code",
   "execution_count": 59,
   "id": "48d25334-1c21-41be-81b3-fabe8a441d13",
   "metadata": {},
   "outputs": [],
   "source": [
    "def get_modifiers(rf_am='default', rf_cs='Annual', rf_ns='RF_NS_CRN', tillage='unknown', soil_texture='unknown'):\n",
    "    # get reduction factors, RF_*\n",
    "    # reduction factors: coefficient used to estimate the decrease in N2O \n",
    "    # emissions resulting from specific management practices compared to a baseline scenario. \n",
    "    region = get_region()\n",
    "    \n",
    "    dir = os.getcwd()\n",
    "    RF_AM_path = os.path.join(dir, '../data/preprocessed/modifier_rf_am.csv')\n",
    "    RF_CS_path = os.path.join(dir, '../data/preprocessed/modifier_rf_cs.csv')\n",
    "    RF_NS_path = os.path.join(dir, '../data/preprocessed/modifier_rf_ns.csv')\n",
    "    RF_Till_path = os.path.join(dir, '../data/preprocessed/modifier_rf_till.csv')\n",
    "    RF_TX_path = os.path.join(dir, '../data/preprocessed/modifier_rf_tx.csv')\n",
    "\n",
    "    RF_AM_df = pd.read_csv(RF_AM_path)\n",
    "    RF_CS_df = pd.read_csv(RF_CS_path)\n",
    "    RF_NS_df = pd.read_csv(RF_NS_path)\n",
    "    RF_Till_df = pd.read_csv(RF_Till_path)\n",
    "    RF_TX_df = pd.read_csv(RF_TX_path)\n",
    "\n",
    "    # RF_AM, application method, LiteFarm data do not have this field, use default 1.\n",
    "    RF_AM = RF_AM_df.query(f\"method == '{rf_am}'\")['value'].iloc[0]\n",
    "\n",
    "    # RF_CS, currently the calculation method only involves annual, thus use 'Annual' by default, 1\n",
    "    RF_CS = RF_CS_df.query(f\"group == '{rf_cs}'\")['value'].iloc[0]\n",
    "\n",
    "    # RF_NS, current calculation only involves crop residue nitrogen, thus only RF_NS_CRN is used\n",
    "    RF_NS = RF_NS_df.query(f\"N_source == '{rf_ns}'\")['value'].iloc[0]\n",
    "\n",
    "    # RF_Till, by default set as 1 \"unknown\", LiteFarm data do not provide this information\n",
    "    RF_Till = RF_Till_df.query(f\"region=='{region}' & tillage == '{tillage}'\")['value'].iloc[0]\n",
    "\n",
    "    # RF_TX\n",
    "    # here should link to Ftopo data, need to do!\n",
    "    RF_TX = RF_TX_df.query(f\"region=='{region}' & soil_texture == '{soil_texture}'\")['value'].iloc[0]\n",
    "\n",
    "    return {\"RF_AM\": RF_AM, \"RF_CS\": RF_CS, \"RF_NS\": RF_NS, \"RF_Till\": RF_Till, \"RF_TX\": RF_TX}"
   ]
  },
  {
   "cell_type": "code",
   "execution_count": 60,
   "id": "c00f479b-5fc1-4735-b065-a0fbbd758708",
   "metadata": {},
   "outputs": [
    {
     "data": {
      "text/plain": [
       "{'RF_AM': 1.0, 'RF_CS': 1.0, 'RF_NS': 0.84, 'RF_Till': 1.0, 'RF_TX': 1.0}"
      ]
     },
     "execution_count": 60,
     "metadata": {},
     "output_type": "execute_result"
    }
   ],
   "source": [
    "# test\n",
    "get_modifiers()"
   ]
  },
  {
   "cell_type": "markdown",
   "id": "aec7bb43-495a-444b-9eb8-7fce62efd3e4",
   "metadata": {},
   "source": [
    "## Get parameter-group 3: CROP GROUP parameters: Carbon_concentration, S_s, S_r, S_p"
   ]
  },
  {
   "cell_type": "code",
   "execution_count": null,
   "id": "0e1ac90f-99b8-4dcd-8f4d-e96f56c9a3a3",
   "metadata": {},
   "outputs": [],
   "source": [
    "def map_simplified_crop_name():\n",
    "    # LiteFarm has a flexible protocol for crop names, \n",
    "    # thus, map crop name to simplified version???\n",
    "    # need to figure out how to do this?\n",
    "    # or this should be something that LiteFarm team do\n",
    "    # for now, we assume the crop name is clean and ready-to-use.\n",
    "    "
   ]
  },
  {
   "cell_type": "code",
   "execution_count": 72,
   "id": "735e25fa-d958-46aa-bf5a-b77d1c786b89",
   "metadata": {},
   "outputs": [],
   "source": [
    "def get_crop_group():\n",
    "    # determine the group of crops: annual, perennial, cover, silage, root.\n",
    "    farm_data = get_farm_data(farm_id)\n",
    "    crop = farm_data['crop'].lower()\n",
    "\n",
    "    dir = os.getcwd()\n",
    "    crop_to_group_map_path = os.path.join(dir, '../data/preprocessed/crop_to_group.csv')\n",
    "    crop_to_group_map_df = pd.read_csv(crop_to_group_map_path)\n",
    "\n",
    "    crop_group = crop_to_group_map_df.query(f\"crop == '{crop}'\")['group'].iloc[0]\n",
    "\n",
    "    return crop_group"
   ]
  },
  {
   "cell_type": "code",
   "execution_count": 73,
   "id": "d1cedeb3-9387-4688-8a7b-64768a916e17",
   "metadata": {},
   "outputs": [
    {
     "data": {
      "text/plain": [
       "'Annual'"
      ]
     },
     "execution_count": 73,
     "metadata": {},
     "output_type": "execute_result"
    }
   ],
   "source": [
    "# test\n",
    "get_crop_group()"
   ]
  },
  {
   "cell_type": "code",
   "execution_count": 81,
   "id": "638e4755-b5b7-4376-b142-252a1cd5f928",
   "metadata": {},
   "outputs": [],
   "source": [
    "def get_crop_group_parameters():\n",
    "    # get crop-group related parameters: Carbon_concentration, S_s, S_r, S_p\n",
    "    crop_group = get_crop_group()\n",
    "\n",
    "    dir = os.getcwd()\n",
    "    crop_group_params_path = os.path.join(dir, '../data/preprocessed/crop_group_parameters.csv')\n",
    "    crop_group_params_df = pd.read_csv(crop_group_params_path)\n",
    "\n",
    "    crop_group_params = crop_group_params_df[crop_group_params_df['group'] == crop_group].iloc[0].to_dict()\n",
    "    return crop_group_params"
   ]
  },
  {
   "cell_type": "code",
   "execution_count": 82,
   "id": "6d6a596a-a6ab-4278-9d33-ef800d53f84a",
   "metadata": {},
   "outputs": [
    {
     "data": {
      "text/plain": [
       "{'group': 'Annual',\n",
       " 'carbon_concentration': 0.45,\n",
       " 'S_s': 100,\n",
       " 'S_r': 100,\n",
       " 'S_p': 2}"
      ]
     },
     "execution_count": 82,
     "metadata": {},
     "output_type": "execute_result"
    }
   ],
   "source": [
    "# test\n",
    "get_crop_group_parameters()"
   ]
  },
  {
   "cell_type": "markdown",
   "id": "9e564e2a-661a-4add-93ea-41ab304588b7",
   "metadata": {},
   "source": [
    "## Get parameter-group 4: CROP parameters: N_*, and R_*"
   ]
  },
  {
   "cell_type": "code",
   "execution_count": 102,
   "id": "f0e6aabd-0721-4c64-ac07-f97cd8f54477",
   "metadata": {},
   "outputs": [],
   "source": [
    "def get_crop_parameters():\n",
    "    # get crop specific parameters: N_p, N_s, N_r, N_e, R_p, R_s, R_r, R_e\n",
    "    farm_data = get_farm_data(farm_id)\n",
    "    crop = farm_data['crop']\n",
    "\n",
    "    dir = os.getcwd()\n",
    "    crop_params_path = os.path.join(dir, '../data/preprocessed/crop_parameters.csv')\n",
    "    crop_params_df = pd.read_csv(crop_params_path)\n",
    "    crop_params_df.head()\n",
    "\n",
    "    crop_params = crop_params_df[crop_params_df['crop'] == crop].iloc[0].to_dict()\n",
    "    crop_params.pop('group', None) \n",
    "    crop_params.pop('holos_crop_name', None)\n",
    "    \n",
    "    return crop_params"
   ]
  },
  {
   "cell_type": "code",
   "execution_count": 103,
   "id": "32930e52-ae6a-49b8-8ac0-729b8fd0dc6c",
   "metadata": {},
   "outputs": [
    {
     "data": {
      "text/plain": [
       "{'crop': 'Soybean',\n",
       " 'condition': 'Canada',\n",
       " 'moisture': 14,\n",
       " 'R_p': 0.304,\n",
       " 'R_s': 0.455,\n",
       " 'R_r': 0.146,\n",
       " 'R_e': 0.095,\n",
       " 'N_p': 67.0,\n",
       " 'N_s': 6.0,\n",
       " 'N_r': 10.0,\n",
       " 'N_e': 10.0}"
      ]
     },
     "execution_count": 103,
     "metadata": {},
     "output_type": "execute_result"
    }
   ],
   "source": [
    "# test\n",
    "get_crop_parameters()"
   ]
  },
  {
   "cell_type": "markdown",
   "id": "195a56db-f9f4-4842-86dc-f089175036a8",
   "metadata": {},
   "source": [
    "## Get parameter-group 5: CLIMATE parameters, P, PE, and Ftopo"
   ]
  },
  {
   "cell_type": "code",
   "execution_count": null,
   "id": "ae5d7567-ef7b-4ed8-b457-d4ac5ab9c39a",
   "metadata": {},
   "outputs": [],
   "source": [
    "def get_climate_parameters():\n",
    "    "
   ]
  }
 ],
 "metadata": {
  "kernelspec": {
   "display_name": "Python [conda env:LiteFarmGHG]",
   "language": "python",
   "name": "conda-env-LiteFarmGHG-py"
  },
  "language_info": {
   "codemirror_mode": {
    "name": "ipython",
    "version": 3
   },
   "file_extension": ".py",
   "mimetype": "text/x-python",
   "name": "python",
   "nbconvert_exporter": "python",
   "pygments_lexer": "ipython3",
   "version": "3.9.19"
  }
 },
 "nbformat": 4,
 "nbformat_minor": 5
}
