{
 "cells": [
  {
   "cell_type": "code",
   "execution_count": 2,
   "id": "3b434c9f-5d77-47a7-9a23-a001ab6460db",
   "metadata": {},
   "outputs": [],
   "source": [
    "import os\n",
    "import json\n",
    "import pandas as pd\n",
    "import numpy as np\n",
    "import geopandas as gpd\n",
    "from shapely.geometry import Point, Polygon"
   ]
  },
  {
   "cell_type": "code",
   "execution_count": 31,
   "id": "874bcbd9-57f7-4372-97c7-9238b2576da9",
   "metadata": {},
   "outputs": [],
   "source": [
    "# data loader\n",
    "\n",
    "# get farm data\n",
    "def get_farm_data(farm_id):\n",
    "    # dir = os.path.dirname(__file__)\n",
    "    dir = os.getcwd()\n",
    "    farm_data_path = os.path.join(dir, '../data/test/litefarm_test.csv')\n",
    "    df = pd.read_csv(farm_data_path)\n",
    "    farm = df.query(f\"farm_id == '{farm_id}'\")\n",
    "    area = farm[\"area_in_m2\"].iloc[0] * 0.0001  # Litefarm database use m^2 while holos calculation use ha\n",
    "    crop_yield = farm[\"yield_kg\"].iloc[0] / area  # kg/ha\n",
    "    location = [Point(x, y) for x, y in zip(df['lon'], df['lat'])]\n",
    "    crop_name = farm[\"common_crop_name\"].iloc[0]\n",
    "    return {'Area': area, 'Location': location, 'Crop': crop_name, 'Yield': crop_yield}\n"
   ]
  },
  {
   "cell_type": "code",
   "execution_count": 32,
   "id": "f16af958-9271-4ea0-80ce-da183e266046",
   "metadata": {},
   "outputs": [
    {
     "data": {
      "text/plain": [
       "{'Area': 0.1409,\n",
       " 'Location': [<POINT (-71.519 46.476)>],\n",
       " 'Crop': 'Soybean',\n",
       " 'Yield': 153158.2682753726}"
      ]
     },
     "execution_count": 32,
     "metadata": {},
     "output_type": "execute_result"
    }
   ],
   "source": [
    "# test\n",
    "farm_id = '0369f026-1f90-11ee-b788-0242ac150004'\n",
    "get_farm_data(farm_id)"
   ]
  },
  {
   "cell_type": "code",
   "execution_count": null,
   "id": "dd3e0961-69c2-40d9-a0a3-c1ea765884c4",
   "metadata": {},
   "outputs": [],
   "source": []
  },
  {
   "cell_type": "code",
   "execution_count": null,
   "id": "48d25334-1c21-41be-81b3-fabe8a441d13",
   "metadata": {},
   "outputs": [],
   "source": []
  },
  {
   "cell_type": "code",
   "execution_count": null,
   "id": "0e1ac90f-99b8-4dcd-8f4d-e96f56c9a3a3",
   "metadata": {},
   "outputs": [],
   "source": []
  },
  {
   "cell_type": "code",
   "execution_count": null,
   "id": "735e25fa-d958-46aa-bf5a-b77d1c786b89",
   "metadata": {},
   "outputs": [],
   "source": []
  },
  {
   "cell_type": "code",
   "execution_count": null,
   "id": "638e4755-b5b7-4376-b142-252a1cd5f928",
   "metadata": {},
   "outputs": [],
   "source": []
  },
  {
   "cell_type": "code",
   "execution_count": null,
   "id": "f0e6aabd-0721-4c64-ac07-f97cd8f54477",
   "metadata": {},
   "outputs": [],
   "source": []
  },
  {
   "cell_type": "code",
   "execution_count": null,
   "id": "e64e9600-e1bb-4fb5-92cc-f5d3baa659f0",
   "metadata": {},
   "outputs": [],
   "source": []
  }
 ],
 "metadata": {
  "kernelspec": {
   "display_name": "Python [conda env:LiteFarmGHG]",
   "language": "python",
   "name": "conda-env-LiteFarmGHG-py"
  },
  "language_info": {
   "codemirror_mode": {
    "name": "ipython",
    "version": 3
   },
   "file_extension": ".py",
   "mimetype": "text/x-python",
   "name": "python",
   "nbconvert_exporter": "python",
   "pygments_lexer": "ipython3",
   "version": "3.9.19"
  }
 },
 "nbformat": 4,
 "nbformat_minor": 5
}
