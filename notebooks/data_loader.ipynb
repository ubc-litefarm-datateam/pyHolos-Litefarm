{
 "cells": [
  {
   "cell_type": "code",
   "execution_count": 1,
   "id": "3b434c9f-5d77-47a7-9a23-a001ab6460db",
   "metadata": {},
   "outputs": [],
   "source": [
    "import os\n",
    "import json\n",
    "import pandas as pd\n",
    "import numpy as np\n",
    "import geopandas as gpd\n",
    "from shapely.geometry import Point, Polygon"
   ]
  },
  {
   "cell_type": "markdown",
   "id": "299fd5bf-8b53-47d1-bc55-31a46bae5820",
   "metadata": {},
   "source": [
    "## Get parameter-group 1: FARM, location, crop name, yield, area"
   ]
  },
  {
   "cell_type": "code",
   "execution_count": 2,
   "id": "874bcbd9-57f7-4372-97c7-9238b2576da9",
   "metadata": {},
   "outputs": [],
   "source": [
    "# data loader\n",
    "\n",
    "# get farm data\n",
    "def get_farm_data(farm_id):\n",
    "    # dir = os.path.dirname(__file__)\n",
    "    dir = os.getcwd()\n",
    "    farm_data_path = os.path.join(dir, '../data/test/litefarm_test.csv')\n",
    "    df = pd.read_csv(farm_data_path)\n",
    "    \n",
    "    farm = df.query(f\"farm_id == '{farm_id}'\")\n",
    "    \n",
    "    area = farm[\"area_in_m2\"].iloc[0] * 0.0001  # Litefarm database use m^2 while holos calculation use ha\n",
    "    crop_yield = farm[\"yield_kg\"].iloc[0] / area  # kg/ha\n",
    "    location = [Point(x, y) for x, y in zip(df['lon'], df['lat'])]\n",
    "    crop_name = farm[\"common_crop_name\"].iloc[0]\n",
    "    year = farm[\"year\"].iloc[0]\n",
    "    \n",
    "    return {'area': area, 'location': location, 'crop': crop_name, 'yield': crop_yield, 'year': year}"
   ]
  },
  {
   "cell_type": "code",
   "execution_count": 3,
   "id": "f16af958-9271-4ea0-80ce-da183e266046",
   "metadata": {},
   "outputs": [
    {
     "data": {
      "text/plain": [
       "{'area': 0.1409,\n",
       " 'location': [<POINT (-71.519 46.476)>],\n",
       " 'crop': 'Soybean',\n",
       " 'yield': 153158.2682753726,\n",
       " 'year': 2021}"
      ]
     },
     "execution_count": 3,
     "metadata": {},
     "output_type": "execute_result"
    }
   ],
   "source": [
    "# test\n",
    "farm_id = '0369f026-1f90-11ee-b788-0242ac150004'\n",
    "get_farm_data(farm_id)"
   ]
  },
  {
   "cell_type": "markdown",
   "id": "ea60ea93-3de4-4bf6-97f5-34a7d4b7273d",
   "metadata": {},
   "source": [
    "## Get parameter-group 2: MODIFIERS / reduction factors, RF_*"
   ]
  },
  {
   "cell_type": "code",
   "execution_count": 4,
   "id": "dd3e0961-69c2-40d9-a0a3-c1ea765884c4",
   "metadata": {},
   "outputs": [],
   "source": [
    "def add_province():\n",
    "    # get the province base on the farm location\n",
    "    farm_data = get_farm_data(farm_id)\n",
    "    farm_point = gpd.GeoDataFrame({'geometry': farm_data[\"location\"]}, crs=\"EPSG:4326\")\n",
    "        \n",
    "    dir = os.getcwd()\n",
    "    province_shp_path = os.path.join(dir, '../data/external/province_500m')\n",
    "    provinces = gpd.read_file(province_shp_path)\n",
    "    provinces = provinces.to_crs(\"EPSG:4326\") \n",
    "\n",
    "    farm_province = gpd.sjoin(farm_point, \n",
    "                         provinces[[\"PRENAME\", \"geometry\"]], \n",
    "                         how='left', \n",
    "                         predicate='within').drop(columns=['index_right'])\n",
    "    \n",
    "    farm_province.rename(columns={'PRENAME': 'province'}, inplace=True)\n",
    "    \n",
    "    return farm_province"
   ]
  },
  {
   "cell_type": "code",
   "execution_count": 5,
   "id": "f64d669b-a944-435d-9b3d-2dcdc02491b6",
   "metadata": {},
   "outputs": [
    {
     "data": {
      "text/html": [
       "<div>\n",
       "<style scoped>\n",
       "    .dataframe tbody tr th:only-of-type {\n",
       "        vertical-align: middle;\n",
       "    }\n",
       "\n",
       "    .dataframe tbody tr th {\n",
       "        vertical-align: top;\n",
       "    }\n",
       "\n",
       "    .dataframe thead th {\n",
       "        text-align: right;\n",
       "    }\n",
       "</style>\n",
       "<table border=\"1\" class=\"dataframe\">\n",
       "  <thead>\n",
       "    <tr style=\"text-align: right;\">\n",
       "      <th></th>\n",
       "      <th>geometry</th>\n",
       "      <th>province</th>\n",
       "    </tr>\n",
       "  </thead>\n",
       "  <tbody>\n",
       "    <tr>\n",
       "      <th>0</th>\n",
       "      <td>POINT (-71.51895 46.47619)</td>\n",
       "      <td>Quebec</td>\n",
       "    </tr>\n",
       "  </tbody>\n",
       "</table>\n",
       "</div>"
      ],
      "text/plain": [
       "                     geometry province\n",
       "0  POINT (-71.51895 46.47619)   Quebec"
      ]
     },
     "execution_count": 5,
     "metadata": {},
     "output_type": "execute_result"
    }
   ],
   "source": [
    "# test\n",
    "add_province()"
   ]
  },
  {
   "cell_type": "code",
   "execution_count": 6,
   "id": "c0aef18c-7046-4b89-80eb-06af31fe3f1d",
   "metadata": {},
   "outputs": [],
   "source": [
    "def get_province():\n",
    "    province = add_province()[\"province\"].iloc[0]\n",
    "    return province"
   ]
  },
  {
   "cell_type": "code",
   "execution_count": 7,
   "id": "44f9b5ff-47e8-4f9c-bb5f-484866d9868b",
   "metadata": {},
   "outputs": [
    {
     "data": {
      "text/plain": [
       "'Quebec'"
      ]
     },
     "execution_count": 7,
     "metadata": {},
     "output_type": "execute_result"
    }
   ],
   "source": [
    "# TEST\n",
    "get_province()"
   ]
  },
  {
   "cell_type": "code",
   "execution_count": 8,
   "id": "9ae56dfd-798a-496b-8d97-5a411075da22",
   "metadata": {},
   "outputs": [],
   "source": [
    "def get_region():\n",
    "    province = get_province()\n",
    "    western_canada = [\n",
    "        'Alberta', 'British Columbia', 'Manitoba', \n",
    "        'Saskatchewan', 'Northwest Territories', 'Nunavut'\n",
    "    ]\n",
    "    \n",
    "    if province in western_canada:\n",
    "        return 'western_canada'\n",
    "    else:\n",
    "        return 'eastern_canada'"
   ]
  },
  {
   "cell_type": "code",
   "execution_count": 9,
   "id": "9575930d-f194-45a5-8470-aabb493200d4",
   "metadata": {},
   "outputs": [
    {
     "data": {
      "text/plain": [
       "'eastern_canada'"
      ]
     },
     "execution_count": 9,
     "metadata": {},
     "output_type": "execute_result"
    }
   ],
   "source": [
    "# test\n",
    "get_region()"
   ]
  },
  {
   "cell_type": "code",
   "execution_count": 10,
   "id": "48d25334-1c21-41be-81b3-fabe8a441d13",
   "metadata": {},
   "outputs": [],
   "source": [
    "def get_modifiers(rf_am='default', rf_cs='Annual', rf_ns='RF_NS_CRN', tillage='unknown', soil_texture='unknown'):\n",
    "    # get reduction factors, RF_*\n",
    "    # reduction factors: coefficient used to estimate the decrease in N2O \n",
    "    # emissions resulting from specific management practices compared to a baseline scenario. \n",
    "    region = get_region()\n",
    "    \n",
    "    dir = os.getcwd()\n",
    "    RF_AM_path = os.path.join(dir, '../data/preprocessed/modifier_rf_am.csv')\n",
    "    RF_CS_path = os.path.join(dir, '../data/preprocessed/modifier_rf_cs.csv')\n",
    "    RF_NS_path = os.path.join(dir, '../data/preprocessed/modifier_rf_ns.csv')\n",
    "    RF_Till_path = os.path.join(dir, '../data/preprocessed/modifier_rf_till.csv')\n",
    "    RF_TX_path = os.path.join(dir, '../data/preprocessed/modifier_rf_tx.csv')\n",
    "\n",
    "    RF_AM_df = pd.read_csv(RF_AM_path)\n",
    "    RF_CS_df = pd.read_csv(RF_CS_path)\n",
    "    RF_NS_df = pd.read_csv(RF_NS_path)\n",
    "    RF_Till_df = pd.read_csv(RF_Till_path)\n",
    "    RF_TX_df = pd.read_csv(RF_TX_path)\n",
    "\n",
    "    # RF_AM, application method, LiteFarm data do not have this field, use default 1.\n",
    "    RF_AM = RF_AM_df.query(f\"method == '{rf_am}'\")['value'].iloc[0]\n",
    "\n",
    "    # RF_CS, currently the calculation method only involves annual, thus use 'Annual' by default, 1\n",
    "    RF_CS = RF_CS_df.query(f\"group == '{rf_cs}'\")['value'].iloc[0]\n",
    "\n",
    "    # RF_NS, current calculation only involves crop residue nitrogen, thus only RF_NS_CRN is used\n",
    "    RF_NS = RF_NS_df.query(f\"N_source == '{rf_ns}'\")['value'].iloc[0]\n",
    "\n",
    "    # RF_Till, by default set as 1 \"unknown\", LiteFarm data do not provide this information\n",
    "    RF_Till = RF_Till_df.query(f\"region=='{region}' & tillage == '{tillage}'\")['value'].iloc[0]\n",
    "\n",
    "    # RF_TX\n",
    "    # here should link to Ftopo data, need to do!\n",
    "    RF_TX = RF_TX_df.query(f\"region=='{region}' & soil_texture == '{soil_texture}'\")['value'].iloc[0]\n",
    "\n",
    "    return {\"RF_AM\": RF_AM, \"RF_CS\": RF_CS, \"RF_NS\": RF_NS, \"RF_Till\": RF_Till, \"RF_TX\": RF_TX}"
   ]
  },
  {
   "cell_type": "code",
   "execution_count": 11,
   "id": "c00f479b-5fc1-4735-b065-a0fbbd758708",
   "metadata": {},
   "outputs": [
    {
     "data": {
      "text/plain": [
       "{'RF_AM': 1.0, 'RF_CS': 1.0, 'RF_NS': 0.84, 'RF_Till': 1.0, 'RF_TX': 1.0}"
      ]
     },
     "execution_count": 11,
     "metadata": {},
     "output_type": "execute_result"
    }
   ],
   "source": [
    "# test\n",
    "get_modifiers()"
   ]
  },
  {
   "cell_type": "markdown",
   "id": "aec7bb43-495a-444b-9eb8-7fce62efd3e4",
   "metadata": {},
   "source": [
    "## Get parameter-group 3: CROP GROUP parameters: Carbon_concentration, S_s, S_r, S_p"
   ]
  },
  {
   "cell_type": "code",
   "execution_count": 18,
   "id": "0e1ac90f-99b8-4dcd-8f4d-e96f56c9a3a3",
   "metadata": {},
   "outputs": [
    {
     "ename": "IndentationError",
     "evalue": "expected an indented block (4272965401.py, line 7)",
     "output_type": "error",
     "traceback": [
      "\u001b[0;36m  Cell \u001b[0;32mIn[18], line 7\u001b[0;36m\u001b[0m\n\u001b[0;31m    \u001b[0m\n\u001b[0m    ^\u001b[0m\n\u001b[0;31mIndentationError\u001b[0m\u001b[0;31m:\u001b[0m expected an indented block\n"
     ]
    }
   ],
   "source": [
    "# def map_simplified_crop_name():\n",
    "    # LiteFarm has a flexible protocol for crop names, \n",
    "    # thus, map crop name to simplified version???\n",
    "    # need to figure out how to do this?\n",
    "    # or this should be something that LiteFarm team do\n",
    "    # for now, we assume the crop name is clean and ready-to-use.\n",
    "    "
   ]
  },
  {
   "cell_type": "code",
   "execution_count": 12,
   "id": "735e25fa-d958-46aa-bf5a-b77d1c786b89",
   "metadata": {},
   "outputs": [],
   "source": [
    "def get_crop_group():\n",
    "    # determine the group of crops: annual, perennial, cover, silage, root.\n",
    "    farm_data = get_farm_data(farm_id)\n",
    "    crop = farm_data['crop'].lower()\n",
    "\n",
    "    dir = os.getcwd()\n",
    "    crop_to_group_map_path = os.path.join(dir, '../data/preprocessed/crop_to_group.csv')\n",
    "    crop_to_group_map_df = pd.read_csv(crop_to_group_map_path)\n",
    "\n",
    "    crop_group = crop_to_group_map_df.query(f\"crop == '{crop}'\")['group'].iloc[0]\n",
    "\n",
    "    return crop_group"
   ]
  },
  {
   "cell_type": "code",
   "execution_count": 13,
   "id": "d1cedeb3-9387-4688-8a7b-64768a916e17",
   "metadata": {},
   "outputs": [
    {
     "data": {
      "text/plain": [
       "'Annual'"
      ]
     },
     "execution_count": 13,
     "metadata": {},
     "output_type": "execute_result"
    }
   ],
   "source": [
    "# test\n",
    "get_crop_group()"
   ]
  },
  {
   "cell_type": "code",
   "execution_count": 14,
   "id": "638e4755-b5b7-4376-b142-252a1cd5f928",
   "metadata": {},
   "outputs": [],
   "source": [
    "def get_crop_group_parameters():\n",
    "    # get crop-group related parameters: Carbon_concentration, S_s, S_r, S_p\n",
    "    crop_group = get_crop_group()\n",
    "\n",
    "    dir = os.getcwd()\n",
    "    crop_group_params_path = os.path.join(dir, '../data/preprocessed/crop_group_parameters.csv')\n",
    "    crop_group_params_df = pd.read_csv(crop_group_params_path)\n",
    "\n",
    "    crop_group_params = crop_group_params_df[crop_group_params_df['group'] == crop_group].iloc[0].to_dict()\n",
    "    return crop_group_params"
   ]
  },
  {
   "cell_type": "code",
   "execution_count": 15,
   "id": "6d6a596a-a6ab-4278-9d33-ef800d53f84a",
   "metadata": {},
   "outputs": [
    {
     "data": {
      "text/plain": [
       "{'group': 'Annual',\n",
       " 'carbon_concentration': 0.45,\n",
       " 'S_s': 100,\n",
       " 'S_r': 100,\n",
       " 'S_p': 2}"
      ]
     },
     "execution_count": 15,
     "metadata": {},
     "output_type": "execute_result"
    }
   ],
   "source": [
    "# test\n",
    "get_crop_group_parameters()"
   ]
  },
  {
   "cell_type": "markdown",
   "id": "9e564e2a-661a-4add-93ea-41ab304588b7",
   "metadata": {},
   "source": [
    "## Get parameter-group 4: CROP parameters: N_*, and R_*"
   ]
  },
  {
   "cell_type": "code",
   "execution_count": 16,
   "id": "f0e6aabd-0721-4c64-ac07-f97cd8f54477",
   "metadata": {},
   "outputs": [],
   "source": [
    "def get_crop_parameters():\n",
    "    # get crop specific parameters: N_p, N_s, N_r, N_e, R_p, R_s, R_r, R_e\n",
    "    farm_data = get_farm_data(farm_id)\n",
    "    crop = farm_data['crop']\n",
    "\n",
    "    dir = os.getcwd()\n",
    "    crop_params_path = os.path.join(dir, '../data/preprocessed/crop_parameters.csv')\n",
    "    crop_params_df = pd.read_csv(crop_params_path)\n",
    "    crop_params_df.head()\n",
    "\n",
    "    crop_params = crop_params_df[crop_params_df['crop'] == crop].iloc[0].to_dict()\n",
    "    crop_params.pop('group', None) \n",
    "    crop_params.pop('holos_crop_name', None)\n",
    "    \n",
    "    return crop_params"
   ]
  },
  {
   "cell_type": "code",
   "execution_count": 17,
   "id": "32930e52-ae6a-49b8-8ac0-729b8fd0dc6c",
   "metadata": {},
   "outputs": [
    {
     "data": {
      "text/plain": [
       "{'crop': 'Soybean',\n",
       " 'condition': 'Canada',\n",
       " 'moisture': 14,\n",
       " 'R_p': 0.304,\n",
       " 'R_s': 0.455,\n",
       " 'R_r': 0.146,\n",
       " 'R_e': 0.095,\n",
       " 'N_p': 67.0,\n",
       " 'N_s': 6.0,\n",
       " 'N_r': 10.0,\n",
       " 'N_e': 10.0}"
      ]
     },
     "execution_count": 17,
     "metadata": {},
     "output_type": "execute_result"
    }
   ],
   "source": [
    "# test\n",
    "get_crop_parameters()"
   ]
  },
  {
   "cell_type": "markdown",
   "id": "195a56db-f9f4-4842-86dc-f089175036a8",
   "metadata": {},
   "source": [
    "## Get parameter-group 5: CLIMATE parameters, P, PE, and Ftopo"
   ]
  },
  {
   "cell_type": "code",
   "execution_count": 18,
   "id": "ae5d7567-ef7b-4ed8-b457-d4ac5ab9c39a",
   "metadata": {},
   "outputs": [],
   "source": [
    "def get_climate_parameters():\n",
    "    # currently, we use the default Holos data derived from SLC\n",
    "    add_province()"
   ]
  },
  {
   "cell_type": "code",
   "execution_count": 19,
   "id": "6ce9b0da-ca0c-4796-b82d-041eeb579bd2",
   "metadata": {},
   "outputs": [
    {
     "data": {
      "text/html": [
       "<div>\n",
       "<style scoped>\n",
       "    .dataframe tbody tr th:only-of-type {\n",
       "        vertical-align: middle;\n",
       "    }\n",
       "\n",
       "    .dataframe tbody tr th {\n",
       "        vertical-align: top;\n",
       "    }\n",
       "\n",
       "    .dataframe thead th {\n",
       "        text-align: right;\n",
       "    }\n",
       "</style>\n",
       "<table border=\"1\" class=\"dataframe\">\n",
       "  <thead>\n",
       "    <tr style=\"text-align: right;\">\n",
       "      <th></th>\n",
       "      <th>geometry</th>\n",
       "      <th>province</th>\n",
       "    </tr>\n",
       "  </thead>\n",
       "  <tbody>\n",
       "    <tr>\n",
       "      <th>0</th>\n",
       "      <td>POINT (-71.51895 46.47619)</td>\n",
       "      <td>Quebec</td>\n",
       "    </tr>\n",
       "  </tbody>\n",
       "</table>\n",
       "</div>"
      ],
      "text/plain": [
       "                     geometry province\n",
       "0  POINT (-71.51895 46.47619)   Quebec"
      ]
     },
     "execution_count": 19,
     "metadata": {},
     "output_type": "execute_result"
    }
   ],
   "source": [
    "gdf = add_province()\n",
    "gdf"
   ]
  },
  {
   "cell_type": "code",
   "execution_count": 22,
   "id": "0eb75196-fb5d-4a97-a596-e112c720a5c6",
   "metadata": {},
   "outputs": [],
   "source": [
    "dir = os.getcwd()\n",
    "default_climate_path = os.path.join(dir, '../data/raw/Holos/ecodistrict_to_ecozone_mapping.csv')\n",
    "slc_polygons_path = os.path.join(dir, '../data/external/slc')\n",
    "default_climate_df = pd.read_csv(default_climate_path)\n",
    "slc_polygons = gpd.read_file(slc_polygons_path)\n",
    "slc_polygons = slc_polygons.set_crs('EPSG:4269', inplace=True)\n",
    "slc_polygons = slc_polygons.to_crs('EPSG:4326')"
   ]
  },
  {
   "cell_type": "code",
   "execution_count": 23,
   "id": "44f30258-1df0-4fae-a84d-c0ff71f3ec9b",
   "metadata": {},
   "outputs": [
    {
     "data": {
      "text/html": [
       "<div>\n",
       "<style scoped>\n",
       "    .dataframe tbody tr th:only-of-type {\n",
       "        vertical-align: middle;\n",
       "    }\n",
       "\n",
       "    .dataframe tbody tr th {\n",
       "        vertical-align: top;\n",
       "    }\n",
       "\n",
       "    .dataframe thead th {\n",
       "        text-align: right;\n",
       "    }\n",
       "</style>\n",
       "<table border=\"1\" class=\"dataframe\">\n",
       "  <thead>\n",
       "    <tr style=\"text-align: right;\">\n",
       "      <th></th>\n",
       "      <th>Ecodistrict</th>\n",
       "      <th>Ecozone</th>\n",
       "      <th>Province</th>\n",
       "      <th>PMayToOct</th>\n",
       "      <th>PEMayToOct</th>\n",
       "      <th>Ftopo</th>\n",
       "      <th>SoilType</th>\n",
       "      <th>SoilTexture</th>\n",
       "    </tr>\n",
       "  </thead>\n",
       "  <tbody>\n",
       "    <tr>\n",
       "      <th>0</th>\n",
       "      <td>358</td>\n",
       "      <td>Boreal Shield West</td>\n",
       "      <td>Manitoba</td>\n",
       "      <td>348</td>\n",
       "      <td>453</td>\n",
       "      <td>0.00</td>\n",
       "      <td>Brown Chernozem</td>\n",
       "      <td>Coarse</td>\n",
       "    </tr>\n",
       "    <tr>\n",
       "      <th>1</th>\n",
       "      <td>358</td>\n",
       "      <td>Boreal Shield West</td>\n",
       "      <td>Saskatchewan</td>\n",
       "      <td>348</td>\n",
       "      <td>453</td>\n",
       "      <td>0.00</td>\n",
       "      <td>Brown Chernozem</td>\n",
       "      <td>Coarse</td>\n",
       "    </tr>\n",
       "    <tr>\n",
       "      <th>2</th>\n",
       "      <td>371</td>\n",
       "      <td>Boreal Shield West</td>\n",
       "      <td>Manitoba</td>\n",
       "      <td>376</td>\n",
       "      <td>581</td>\n",
       "      <td>0.33</td>\n",
       "      <td>Black/Gray Chernozem</td>\n",
       "      <td>Fine</td>\n",
       "    </tr>\n",
       "    <tr>\n",
       "      <th>3</th>\n",
       "      <td>371</td>\n",
       "      <td>Boreal Shield West</td>\n",
       "      <td>Ontario</td>\n",
       "      <td>376</td>\n",
       "      <td>581</td>\n",
       "      <td>0.33</td>\n",
       "      <td>Eastern Canada</td>\n",
       "      <td>Fine</td>\n",
       "    </tr>\n",
       "    <tr>\n",
       "      <th>4</th>\n",
       "      <td>375</td>\n",
       "      <td>Boreal Shield West</td>\n",
       "      <td>Manitoba</td>\n",
       "      <td>411</td>\n",
       "      <td>579</td>\n",
       "      <td>0.33</td>\n",
       "      <td>Black/Gray Chernozem</td>\n",
       "      <td>Fine</td>\n",
       "    </tr>\n",
       "  </tbody>\n",
       "</table>\n",
       "</div>"
      ],
      "text/plain": [
       "   Ecodistrict             Ecozone      Province  PMayToOct  PEMayToOct  \\\n",
       "0          358  Boreal Shield West      Manitoba        348         453   \n",
       "1          358  Boreal Shield West  Saskatchewan        348         453   \n",
       "2          371  Boreal Shield West      Manitoba        376         581   \n",
       "3          371  Boreal Shield West       Ontario        376         581   \n",
       "4          375  Boreal Shield West      Manitoba        411         579   \n",
       "\n",
       "   Ftopo              SoilType SoilTexture  \n",
       "0   0.00       Brown Chernozem      Coarse  \n",
       "1   0.00       Brown Chernozem      Coarse  \n",
       "2   0.33  Black/Gray Chernozem        Fine  \n",
       "3   0.33        Eastern Canada        Fine  \n",
       "4   0.33  Black/Gray Chernozem        Fine  "
      ]
     },
     "execution_count": 23,
     "metadata": {},
     "output_type": "execute_result"
    }
   ],
   "source": [
    "default_climate_df.head()"
   ]
  },
  {
   "cell_type": "code",
   "execution_count": 24,
   "id": "7fc1e046-3af5-4ac5-b309-d849b11d4c70",
   "metadata": {},
   "outputs": [
    {
     "data": {
      "text/html": [
       "<div>\n",
       "<style scoped>\n",
       "    .dataframe tbody tr th:only-of-type {\n",
       "        vertical-align: middle;\n",
       "    }\n",
       "\n",
       "    .dataframe tbody tr th {\n",
       "        vertical-align: top;\n",
       "    }\n",
       "\n",
       "    .dataframe thead th {\n",
       "        text-align: right;\n",
       "    }\n",
       "</style>\n",
       "<table border=\"1\" class=\"dataframe\">\n",
       "  <thead>\n",
       "    <tr style=\"text-align: right;\">\n",
       "      <th></th>\n",
       "      <th>AREA</th>\n",
       "      <th>PERIMETER</th>\n",
       "      <th>POLY_ID</th>\n",
       "      <th>ECO_ID</th>\n",
       "      <th>geometry</th>\n",
       "    </tr>\n",
       "  </thead>\n",
       "  <tbody>\n",
       "    <tr>\n",
       "      <th>0</th>\n",
       "      <td>1.376666</td>\n",
       "      <td>6.159230</td>\n",
       "      <td>14003</td>\n",
       "      <td>14</td>\n",
       "      <td>POLYGON ((-73.74820 83.60566, -72.61377 83.626...</td>\n",
       "    </tr>\n",
       "    <tr>\n",
       "      <th>1</th>\n",
       "      <td>1.580340</td>\n",
       "      <td>9.611541</td>\n",
       "      <td>14002</td>\n",
       "      <td>14</td>\n",
       "      <td>POLYGON ((-70.91842 83.63315, -69.65201 83.612...</td>\n",
       "    </tr>\n",
       "    <tr>\n",
       "      <th>2</th>\n",
       "      <td>0.932502</td>\n",
       "      <td>5.332157</td>\n",
       "      <td>14004</td>\n",
       "      <td>14</td>\n",
       "      <td>POLYGON ((-75.75444 83.56109, -74.13673 83.597...</td>\n",
       "    </tr>\n",
       "    <tr>\n",
       "      <th>3</th>\n",
       "      <td>2.408007</td>\n",
       "      <td>13.902721</td>\n",
       "      <td>14005</td>\n",
       "      <td>14</td>\n",
       "      <td>POLYGON ((-77.61654 83.51138, -76.16966 83.550...</td>\n",
       "    </tr>\n",
       "    <tr>\n",
       "      <th>4</th>\n",
       "      <td>3.511283</td>\n",
       "      <td>27.056163</td>\n",
       "      <td>14001</td>\n",
       "      <td>14</td>\n",
       "      <td>POLYGON ((-67.62450 83.54608, -65.74776 83.467...</td>\n",
       "    </tr>\n",
       "  </tbody>\n",
       "</table>\n",
       "</div>"
      ],
      "text/plain": [
       "       AREA  PERIMETER  POLY_ID  ECO_ID  \\\n",
       "0  1.376666   6.159230    14003      14   \n",
       "1  1.580340   9.611541    14002      14   \n",
       "2  0.932502   5.332157    14004      14   \n",
       "3  2.408007  13.902721    14005      14   \n",
       "4  3.511283  27.056163    14001      14   \n",
       "\n",
       "                                            geometry  \n",
       "0  POLYGON ((-73.74820 83.60566, -72.61377 83.626...  \n",
       "1  POLYGON ((-70.91842 83.63315, -69.65201 83.612...  \n",
       "2  POLYGON ((-75.75444 83.56109, -74.13673 83.597...  \n",
       "3  POLYGON ((-77.61654 83.51138, -76.16966 83.550...  \n",
       "4  POLYGON ((-67.62450 83.54608, -65.74776 83.467...  "
      ]
     },
     "execution_count": 24,
     "metadata": {},
     "output_type": "execute_result"
    }
   ],
   "source": [
    "slc_polygons.head()"
   ]
  },
  {
   "cell_type": "code",
   "execution_count": 25,
   "id": "eefd6039-94d2-4336-a801-7ee351cabea3",
   "metadata": {},
   "outputs": [
    {
     "data": {
      "text/html": [
       "<div>\n",
       "<style scoped>\n",
       "    .dataframe tbody tr th:only-of-type {\n",
       "        vertical-align: middle;\n",
       "    }\n",
       "\n",
       "    .dataframe tbody tr th {\n",
       "        vertical-align: top;\n",
       "    }\n",
       "\n",
       "    .dataframe thead th {\n",
       "        text-align: right;\n",
       "    }\n",
       "</style>\n",
       "<table border=\"1\" class=\"dataframe\">\n",
       "  <thead>\n",
       "    <tr style=\"text-align: right;\">\n",
       "      <th></th>\n",
       "      <th>geometry</th>\n",
       "      <th>province</th>\n",
       "      <th>POLY_ID</th>\n",
       "      <th>ECO_ID</th>\n",
       "    </tr>\n",
       "  </thead>\n",
       "  <tbody>\n",
       "    <tr>\n",
       "      <th>0</th>\n",
       "      <td>POINT (-71.51895 46.47619)</td>\n",
       "      <td>Quebec</td>\n",
       "      <td>540011</td>\n",
       "      <td>540</td>\n",
       "    </tr>\n",
       "  </tbody>\n",
       "</table>\n",
       "</div>"
      ],
      "text/plain": [
       "                     geometry province  POLY_ID  ECO_ID\n",
       "0  POINT (-71.51895 46.47619)   Quebec   540011     540"
      ]
     },
     "execution_count": 25,
     "metadata": {},
     "output_type": "execute_result"
    }
   ],
   "source": [
    "farm_polygons = gpd.sjoin(farm_gdf, \n",
    "                          slc_polygons[[\"POLY_ID\", \"ECO_ID\", \"geometry\"]],\n",
    "                          how='left', \n",
    "                          predicate='within'\n",
    "                         ).drop(columns=['index_right'])\n",
    "farm_polygons.head()"
   ]
  },
  {
   "cell_type": "code",
   "execution_count": 26,
   "id": "2f98b4ef-4fd7-4a0e-a40d-1ee2b75634d3",
   "metadata": {},
   "outputs": [
    {
     "data": {
      "text/html": [
       "<div>\n",
       "<style scoped>\n",
       "    .dataframe tbody tr th:only-of-type {\n",
       "        vertical-align: middle;\n",
       "    }\n",
       "\n",
       "    .dataframe tbody tr th {\n",
       "        vertical-align: top;\n",
       "    }\n",
       "\n",
       "    .dataframe thead th {\n",
       "        text-align: right;\n",
       "    }\n",
       "</style>\n",
       "<table border=\"1\" class=\"dataframe\">\n",
       "  <thead>\n",
       "    <tr style=\"text-align: right;\">\n",
       "      <th></th>\n",
       "      <th>geometry</th>\n",
       "      <th>province</th>\n",
       "      <th>POLY_ID</th>\n",
       "      <th>ECO_ID</th>\n",
       "      <th>Ecodistrict</th>\n",
       "      <th>Ecozone</th>\n",
       "      <th>Province</th>\n",
       "      <th>PMayToOct</th>\n",
       "      <th>PEMayToOct</th>\n",
       "      <th>Ftopo</th>\n",
       "      <th>SoilType</th>\n",
       "      <th>SoilTexture</th>\n",
       "    </tr>\n",
       "  </thead>\n",
       "  <tbody>\n",
       "    <tr>\n",
       "      <th>0</th>\n",
       "      <td>POINT (-71.51895 46.47619)</td>\n",
       "      <td>Quebec</td>\n",
       "      <td>540011</td>\n",
       "      <td>540</td>\n",
       "      <td>540</td>\n",
       "      <td>Mixedwood Plains</td>\n",
       "      <td>Quebec</td>\n",
       "      <td>652</td>\n",
       "      <td>556</td>\n",
       "      <td>11.71</td>\n",
       "      <td>Eastern Canada</td>\n",
       "      <td>Coarse</td>\n",
       "    </tr>\n",
       "  </tbody>\n",
       "</table>\n",
       "</div>"
      ],
      "text/plain": [
       "                     geometry province  POLY_ID  ECO_ID  Ecodistrict  \\\n",
       "0  POINT (-71.51895 46.47619)   Quebec   540011     540          540   \n",
       "\n",
       "            Ecozone Province  PMayToOct  PEMayToOct  Ftopo        SoilType  \\\n",
       "0  Mixedwood Plains   Quebec        652         556  11.71  Eastern Canada   \n",
       "\n",
       "  SoilTexture  \n",
       "0      Coarse  "
      ]
     },
     "execution_count": 26,
     "metadata": {},
     "output_type": "execute_result"
    }
   ],
   "source": [
    "farm_ecodistrict_climate = pd.merge(farm_polygons, default_climate_df,\n",
    "                                    how='left',\n",
    "                                    left_on=['ECO_ID','province'],\n",
    "                                    right_on = ['Ecodistrict','Province'])\n",
    "farm_ecodistrict_climate"
   ]
  },
  {
   "cell_type": "code",
   "execution_count": 27,
   "id": "a25f0a82-86e6-422b-949f-29adad019381",
   "metadata": {},
   "outputs": [
    {
     "data": {
      "text/html": [
       "<div>\n",
       "<style scoped>\n",
       "    .dataframe tbody tr th:only-of-type {\n",
       "        vertical-align: middle;\n",
       "    }\n",
       "\n",
       "    .dataframe tbody tr th {\n",
       "        vertical-align: top;\n",
       "    }\n",
       "\n",
       "    .dataframe thead th {\n",
       "        text-align: right;\n",
       "    }\n",
       "</style>\n",
       "<table border=\"1\" class=\"dataframe\">\n",
       "  <thead>\n",
       "    <tr style=\"text-align: right;\">\n",
       "      <th></th>\n",
       "      <th>geometry</th>\n",
       "      <th>POLY_ID</th>\n",
       "      <th>Ecodistrict</th>\n",
       "      <th>Province</th>\n",
       "      <th>PMayToOct</th>\n",
       "      <th>PEMayToOct</th>\n",
       "      <th>Ftopo</th>\n",
       "      <th>SoilTexture</th>\n",
       "    </tr>\n",
       "  </thead>\n",
       "  <tbody>\n",
       "    <tr>\n",
       "      <th>0</th>\n",
       "      <td>POINT (-71.51895 46.47619)</td>\n",
       "      <td>540011</td>\n",
       "      <td>540</td>\n",
       "      <td>Quebec</td>\n",
       "      <td>652</td>\n",
       "      <td>556</td>\n",
       "      <td>11.71</td>\n",
       "      <td>Coarse</td>\n",
       "    </tr>\n",
       "  </tbody>\n",
       "</table>\n",
       "</div>"
      ],
      "text/plain": [
       "                     geometry  POLY_ID  Ecodistrict Province  PMayToOct  \\\n",
       "0  POINT (-71.51895 46.47619)   540011          540   Quebec        652   \n",
       "\n",
       "   PEMayToOct  Ftopo SoilTexture  \n",
       "0         556  11.71      Coarse  "
      ]
     },
     "execution_count": 27,
     "metadata": {},
     "output_type": "execute_result"
    }
   ],
   "source": [
    "farm_ecodistrict_climate = farm_ecodistrict_climate.drop(columns=['ECO_ID', 'Ecozone', 'province', 'SoilType'])\n",
    "farm_ecodistrict_climate"
   ]
  },
  {
   "cell_type": "code",
   "execution_count": 28,
   "id": "b49a9fef-041a-4247-b083-5f649dfca494",
   "metadata": {},
   "outputs": [
    {
     "data": {
      "text/plain": [
       "'Coarse'"
      ]
     },
     "execution_count": 28,
     "metadata": {},
     "output_type": "execute_result"
    }
   ],
   "source": [
    "soil_texture = farm_ecodistrict_climate[\"SoilTexture\"].iloc[0]\n",
    "soil_texture"
   ]
  },
  {
   "cell_type": "code",
   "execution_count": 29,
   "id": "3bc93787-55e1-4f9d-82f0-d9b2e1f9779d",
   "metadata": {},
   "outputs": [
    {
     "data": {
      "text/plain": [
       "652"
      ]
     },
     "execution_count": 29,
     "metadata": {},
     "output_type": "execute_result"
    }
   ],
   "source": [
    "P_i = farm_ecodistrict_climate[\"PMayToOct\"].iloc[0]\n",
    "P_i"
   ]
  },
  {
   "cell_type": "code",
   "execution_count": 30,
   "id": "2751dffd-56b1-47e9-82cd-c120202e2675",
   "metadata": {},
   "outputs": [
    {
     "data": {
      "text/plain": [
       "556"
      ]
     },
     "execution_count": 30,
     "metadata": {},
     "output_type": "execute_result"
    }
   ],
   "source": [
    "PE_i = farm_ecodistrict_climate[\"PEMayToOct\"].iloc[0]\n",
    "PE_i"
   ]
  },
  {
   "cell_type": "code",
   "execution_count": 31,
   "id": "a30d6ebd-5366-4a89-87ff-1a4984cdda45",
   "metadata": {},
   "outputs": [
    {
     "data": {
      "text/plain": [
       "11.71"
      ]
     },
     "execution_count": 31,
     "metadata": {},
     "output_type": "execute_result"
    }
   ],
   "source": [
    "Ftopo = farm_ecodistrict_climate[\"Ftopo\"].iloc[0]\n",
    "Ftopo"
   ]
  },
  {
   "cell_type": "code",
   "execution_count": 32,
   "id": "362edd12-127a-4203-8750-fdd2db37640e",
   "metadata": {},
   "outputs": [
    {
     "data": {
      "text/plain": [
       "{'soil_texture': 'Coarse', 'P': 652, 'PE': 556, 'FR_Topo': 11.71}"
      ]
     },
     "execution_count": 32,
     "metadata": {},
     "output_type": "execute_result"
    }
   ],
   "source": [
    "climate_dict = {\"soil_texture\": soil_texture, \"P\": P_i, \"PE\": PE_i, \"FR_Topo\": Ftopo}\n",
    "climate_dict"
   ]
  },
  {
   "cell_type": "code",
   "execution_count": null,
   "id": "a9797a90-15e6-4d76-a95f-204057e43673",
   "metadata": {},
   "outputs": [],
   "source": []
  }
 ],
 "metadata": {
  "kernelspec": {
   "display_name": "Python [conda env:LiteFarmGHG]",
   "language": "python",
   "name": "conda-env-LiteFarmGHG-py"
  },
  "language_info": {
   "codemirror_mode": {
    "name": "ipython",
    "version": 3
   },
   "file_extension": ".py",
   "mimetype": "text/x-python",
   "name": "python",
   "nbconvert_exporter": "python",
   "pygments_lexer": "ipython3",
   "version": "3.9.19"
  }
 },
 "nbformat": 4,
 "nbformat_minor": 5
}
