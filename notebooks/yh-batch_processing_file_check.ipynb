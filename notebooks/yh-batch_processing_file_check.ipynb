{
 "cells": [
  {
   "cell_type": "code",
   "execution_count": 2,
   "metadata": {},
   "outputs": [],
   "source": [
    "import os\n",
    "import numpy as np\n",
    "import pandas as pd\n"
   ]
  },
  {
   "cell_type": "code",
   "execution_count": 3,
   "metadata": {},
   "outputs": [
    {
     "name": "stdout",
     "output_type": "stream",
     "text": [
      "{'15a9d932', '3c3a39e2', '47e212a6', '6bc253f8', '6df7410e', '18ff50ac', '33851eae', '9572ccf2', '0ed659fe', '3581dbf8', '00a0e25c', '25182038', 'e41d6b3c', 'dee27326', 'a9383c2c', '486d89be', 'bc558b8a', '17cddd1e', '36322d78', '7529d308', '744bd3ec', '409ffbd2', '1e3b98f8', 'abeba0ac', 'bd45d91e', '4316e7b6', '3b35a35e', '956d77bc', 'c24f1bac', '078c6eb4', '7c1fe092', 'd9dd2776', '2cc6f0f0', 'd8110336', 'ead29770', '3438490a', '0514d59c', '636529a4', '9ae9f3b0', 'c4b6a76c', 'ade89702', 'b4dc8a4a', '1705194e', '45a878dc', '0c2c727a', '3531b218', 'e31aed0c', 'c6ea827a', '07943ad6', '6f176e42', '4b39dbe8', 'a1270434', '7ae9ce20', '41160ec2', '7569590e', 'a19f337e', '0d248c62', '9e8d527a', 'e28e2be4', 'e4aece44', 'b941da1a', 'bcac9718', '37b67fec', 'c6cd4bda', 'f945a236', '742f9fee', '7aaac226', '7ec2a0f0', '0369f026', 'a519fb66', '2fe062c0', '2a03cf4c', '2e79227e', '2c09a474', 'f98532c2', '8dbcf280', 'f603c2a4', 'a238c0d0', 'bbad0c5c', '0c4debae', 'b887f0b4', '452618e8', '0093cc60', 'f68f93a6', '03c90fc0', 'ae91476c', '6ec9f820', '8b8d49c6', '0afd7640', '5d23533a', '69b2d170', '23acb6d6', 'd6027b66', '728ccbb0', 'aaf7baba', '07903c0c', '1b602274', '35e54e52', '7a2e6fcc', '47474130', '44136140', 'ae570ea8', 'e277ca26', '8ec4938c', '123d404a'}\n"
     ]
    }
   ],
   "source": [
    "\n",
    "# Directory containing the JSON files\n",
    "directory = '../data/outputs/sensitivity_analysis'\n",
    "\n",
    "# Set to store unique farm IDs\n",
    "unique_farm_ids = set()\n",
    "\n",
    "# Iterate over each file in the directory\n",
    "for filename in os.listdir(directory):\n",
    "    if filename.endswith('.json'):\n",
    "        farm_id = filename.split('_')[0]\n",
    "        unique_farm_ids.add(farm_id)\n",
    "\n",
    "# Display the unique farm IDs\n",
    "print(unique_farm_ids)"
   ]
  }
 ],
 "metadata": {
  "kernelspec": {
   "display_name": "LiteFarmGHG",
   "language": "python",
   "name": "python3"
  },
  "language_info": {
   "codemirror_mode": {
    "name": "ipython",
    "version": 3
   },
   "file_extension": ".py",
   "mimetype": "text/x-python",
   "name": "python",
   "nbconvert_exporter": "python",
   "pygments_lexer": "ipython3",
   "version": "3.9.19"
  }
 },
 "nbformat": 4,
 "nbformat_minor": 2
}
