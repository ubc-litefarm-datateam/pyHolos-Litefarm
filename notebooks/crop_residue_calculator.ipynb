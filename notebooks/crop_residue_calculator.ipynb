{
 "cells": [
  {
   "cell_type": "code",
   "execution_count": 5,
   "metadata": {},
   "outputs": [],
   "source": [
    "# Assume farm_data is a dictionary outputted by data_loader. \n",
    "# farm_data = data_loader(farm_id)\n",
    "# Here is just a toy example.\n",
    "test_data = {\n",
    "        \"group\": \"annual\",\n",
    "        \"yield\": 3500,\n",
    "        \"carbon_concentration\": 0.45,\n",
    "        \"moisture\": 14,\n",
    "        \"area\": 10,\n",
    "        \"S_p\": 2,\n",
    "        \"S_s\": 100,\n",
    "        \"S_r\": 100,\n",
    "        \"R_p\": 0.304,\n",
    "        \"R_s\": 0.455,\n",
    "        \"R_r\": 0.146,\n",
    "        \"R_e\": 0.095,\n",
    "        \"N_p\": 67,\n",
    "        \"N_s\": 6,\n",
    "        \"N_r\": 10,\n",
    "        \"N_e\": 10\n",
    "    }"
   ]
  },
  {
   "cell_type": "code",
   "execution_count": 7,
   "metadata": {},
   "outputs": [],
   "source": [
    "class CropResidueCalculator:\n",
    "    def __init__(self, farm_data):\n",
    "\n",
    "# should I use self.farm_data = farm_data then use self.farm_data[\"area\"] \n",
    "# or assign each value to a self.variable like self.area = farm_data[\"area\"]?\n",
    "        self.farm_data = farm_data\n",
    "        self.area = farm_data[\"area\"]\n",
    "        self.group = farm_data[\"group\"]\n",
    "        self.crop_yield = farm_data[\"yield\"]\n",
    "        self.moisture = farm_data[\"moisture\"]\n",
    "        self.carbon_concentration = farm_data[\"carbon_concentration\"]\n",
    "        \n",
    "\n",
    "        self.S_p = farm_data[\"S_p\"]\n",
    "        self.S_s = farm_data[\"S_s\"]\n",
    "        self.S_r = farm_data[\"S_r\"]\n",
    "\n",
    "        self.R_p = farm_data[\"R_p\"]\n",
    "        self.R_s = farm_data[\"R_s\"]\n",
    "        self.R_r = farm_data[\"R_r\"]\n",
    "        self.R_e = farm_data[\"R_e\"]\n",
    "\n",
    "# should devide by 1000 to convert to kg here or in the functions?\n",
    "        self.N_p = farm_data[\"N_p\"]\n",
    "        self.N_s = farm_data[\"N_s\"]\n",
    "        self.N_r = farm_data[\"N_r\"]\n",
    "        self.N_e = farm_data[\"N_e\"]\n",
    "\n",
    "\n",
    "\n",
    "        \n",
    "    def c_p(self):\n",
    "        return (self.crop_yield + self.crop_yield * self.S_p / 100) * (1 - self.moisture / 100) * self.carbon_concentration\n",
    "    \n",
    "    def grain_n(self):\n",
    "        C_p_to_soil = self.c_p() * self.S_p / 100\n",
    "        return C_p_to_soil / 0.45 * (self.N_p / 1000)\n",
    "    \n",
    "    def straw_n(self):\n",
    "        C_s = self.c_p() * (self.R_s / self.R_p) * (self.S_s / 100)\n",
    "        return C_s / 0.45 * (self.N_s / 1000)\n",
    "\n",
    "    def root_n(self):\n",
    "        C_r = self.c_p() * (self.R_r / self.R_p) * (self.S_r / 100)\n",
    "        return C_r / 0.45 * (self.N_r / 1000)\n",
    "\n",
    "    def exudate_n(self):\n",
    "        C_e = self.c_p() * (self.R_e / self.R_p) \n",
    "        return C_e / 0.45 * (self.N_e /1000)\n",
    "\n",
    "    def above_ground_residue_n(self):\n",
    "        if self.group in [\"annual\", \"perennial\"]:\n",
    "            return self.grain_n() + self.straw_n()\n",
    "        elif self.group == \"root\":\n",
    "            return self.straw_n()\n",
    "        elif self.group in [\"cover\", \"silage\"]:\n",
    "            return self.grain_n()\n",
    "        else:\n",
    "            return 0\n",
    "\n",
    "        \n",
    "    def below_ground_residue_n(self):\n",
    "        if self.group == \"annual\":\n",
    "            return self.root_n() + self.exudate_n()\n",
    "        elif self.group == \"perennial\":\n",
    "            return self.root_n() * (S_r / 100) + self.exudate_n()\n",
    "        elif self.group == \"root\":\n",
    "            return self.grain_n() + self.exudate_n()\n",
    "        elif self.group in [\"cover\", \"silage\"]:\n",
    "            return self.root_n() + self.exudate_n()\n",
    "        else:\n",
    "            return 0\n",
    "\n",
    "    def n_crop_residue(self):\n",
    "        return (self.above_ground_residue_n() + self.below_ground_residue_n()) * self.area"
   ]
  },
  {
   "cell_type": "code",
   "execution_count": 10,
   "metadata": {},
   "outputs": [
    {
     "name": "stdout",
     "output_type": "stream",
     "text": [
      "Total Above Ground Residue Nitrogen: 31.685271947368424\n",
      "Total Below Ground Residue Nitrogen: 24.339414473684208\n",
      "Total Nitrogen Crop Residue: 560.2468642105264\n"
     ]
    }
   ],
   "source": [
    "calculator = CropResidueCalculator(test_data)\n",
    "print(\"Total Above Ground Residue Nitrogen:\", calculator.above_ground_residue_n())\n",
    "print(\"Total Below Ground Residue Nitrogen:\", calculator.below_ground_residue_n())\n",
    "print(\"Total Nitrogen Crop Residue:\", calculator.n_crop_residue())"
   ]
  }
 ],
 "metadata": {
  "kernelspec": {
   "display_name": "base",
   "language": "python",
   "name": "python3"
  },
  "language_info": {
   "codemirror_mode": {
    "name": "ipython",
    "version": 3
   },
   "file_extension": ".py",
   "mimetype": "text/x-python",
   "name": "python",
   "nbconvert_exporter": "python",
   "pygments_lexer": "ipython3",
   "version": "3.11.6"
  }
 },
 "nbformat": 4,
 "nbformat_minor": 2
}
