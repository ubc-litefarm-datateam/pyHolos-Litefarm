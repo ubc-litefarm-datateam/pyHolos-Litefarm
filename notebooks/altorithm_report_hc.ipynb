{
 "cells": [
  {
   "cell_type": "markdown",
   "metadata": {},
   "source": [
    "# Emission Factor Calculation"
   ]
  },
  {
   "cell_type": "markdown",
   "metadata": {},
   "source": [
    "### Calculate Base emission factor - Ecodistrict-level emission factor\n",
    "\n",
    "$EF\\_CT_{i,P>PE} = exp^{0.00558\\times P_{i}-7.7}\\times 100$  (2.5.1-1)\n",
    "\n",
    "$EF\\_CT_{i,P\\leqslant PE} = exp^{0.00558\\times PE_{i}-7.7}\\times 100$  (2.5.1-2)\n",
    "\n",
    "**where:**\n",
    "\n",
    "$ EF\\_CT_i$: Ecodistrict-level emission factor  ($ kg N2O-N \\left ( kg N \\right )^{-1} $)\n",
    "\n",
    "$ P_i $: Annual growing season precipitation (May – October), in ecodistrict “i” (mm)\n",
    "\n",
    "$ PE $: Growing season potential evapotranspiration, by ecodistrict (May – October)(mm)"
   ]
  },
  {
   "cell_type": "markdown",
   "metadata": {},
   "source": [
    "### Calculate Emission factor adjustment due to position in landscape/topography\n",
    "\n",
    "For humid environments $P/PE > 1$: $EF\\_Topo_i = EF\\_CT_{i,P>PE}$ (2.5.2-1)\n",
    "\n",
    "For non-irrigated sites and dry environments $P/PE \\leqslant 1$: $EF\\_Topo_i = (EF\\_CT_{i,P<PE} \\times FR\\_Topo_i)+[EF\\_CT_{i,P>PE} \\times (1-FR\\_Topo_i)]$ (2.5.2-2)\n",
    "\n",
    "For irrigated sites and $P<PE$: $EF\\_Topo_i = EF\\_CT_{i,P\\leqslant PE}$ (2.5.2-3)\n",
    "\n",
    "**notes:**\n",
    "\n",
    "For non-irrigated sites and $P/PE \\leqslant 1$, the fraction of low-laying land and depressions is calculated with the actual PE ($EF\\_CT_{i,P<PE}$), and the remainder of the land with the standard EF ($EF\\_CT_{i,P>PE}$)\n",
    "\n",
    "For irrigated sites, the assumption is that the irrigation amount is equal to PE-P, thus making P = PE\n",
    "\n",
    "**where:**\n",
    "\n",
    "$EF\\_Topo_i$: N2O emission factor adjusted due to position in landscape and moisture regime ($kg N2O-N$)\n",
    "\n",
    "$FR\\_Topo_i$: Fraction of land occupied by lower portions of landscape"
   ]
  },
  {
   "cell_type": "markdown",
   "metadata": {},
   "source": [
    "### Calculate Emission factor adjustment due to soil texture\n",
    "\n",
    "$ EF\\_Base_i = (EF\\_Topo_i \\times RF\\_TX_i) \\times \\frac{1}{0.645} $ (2.5.3-2)\n",
    "\n",
    "**where:**\n",
    "\n",
    "$RF\\_TX_i$: Weighted modifier which provides a correction of the $EF\\_Topo$ in ecodistrict ‘‘i’’ based on the soil texture \n",
    "\n",
    "$EF\\_Base_i$: A function of the three factors that create a base ecodistrict specific value that accounts for the climatic, topographic and edaphic characteristics of the spatial unit for lands\n",
    "\n",
    "$ \\frac{1}{0.645} $: Fraction of growing season emissions of total annual emissions (Pelster et al. 2022, in prep.)"
   ]
  },
  {
   "cell_type": "markdown",
   "metadata": {},
   "source": [
    "### Calculate Emission factor adjustement due to N source, tillage, cropping system, and moisture management system\n",
    "\n",
    "$ EF\\_{i,k,l,m,n} = EF\\_Base_i \\times RF\\_NS_k \\times RF\\_Till_l \\times RF\\_CS_m \\times RF\\_AM $ (2.5.4-1)\n",
    "\n",
    "**where:**\n",
    "\n",
    "$RF\\_NS_k$: Reduction factor for N source, $RF\\_NS_k$ (SN = Synthetic Nitrogen; ON = Organic Nitrogen; CRN = Crop Residue Nitrogen). For CRN, the value is 0.84\n",
    "\n",
    "$RF\\_Till_l$: Reduction factor for tillage practice\n",
    "\n",
    "$RF\\_CS_m$: Reduction factor for cropping system. For annual cropping system, the value is 1. For Perennial systems, the value is 0.19\n",
    "\n",
    "$RF\\_AM$: Reduction factor based on application method, only applicable to calculations of EF specific for SN. For other N source, the value is 1"
   ]
  },
  {
   "cell_type": "markdown",
   "metadata": {},
   "source": [
    "# Emission Calculation"
   ]
  },
  {
   "cell_type": "markdown",
   "metadata": {},
   "source": [
    "### Calculate Direct Nitrous Oxide from inputs\n",
    "\n",
    "$ N2O - N_{CRNdirect(t,field,n)} = N_{CropResidues(t,field,n)} \\times EF_{i,CRN,l,m,n} $ (2.6.5-2)\n",
    "\n",
    "**where:**\n",
    "\n",
    "$N2O - N_{CRNdirect(t,field,n)}$: Direct N2O emissions ($kg N2O-N ha^{-1}$) resulting from crop residues and N mineralization on field n in year t\n"
   ]
  },
  {
   "cell_type": "markdown",
   "metadata": {},
   "source": [
    "### Calculate emission for each field, crop, and year\n",
    "\n",
    "$ N2O - N_{direct} = N2O - N_{SNdirect} + N2O - N_{CRNdirect} + N2O - N_{CRNmindirect} + N2O - N_{ONdirect}$\n",
    "\n",
    "**notes:**\n",
    "\n",
    "Currently, only Nitrogen Direct Emission from crop residues emission is calculated, as this only accounts for crop related  factors and not livestock, fertilizer, and manure.\n",
    "\n",
    "**where:**\n",
    "\n",
    "$ N2O - N_{SNdirect} $: N2O emissions ($kg N2O-N kg^{-1} N ha^{-1}$) resulting from fertilizer application\n",
    "\n",
    "$ N2O - N_{CRNdirect} $: N2O emissions ($kg N2O-N kg^{-1} N ha^{-1}$) resulting from crop residues and N mineralization\n",
    "\n",
    "$ N2O - N_{CRNmindirect} $: N2O emissions ($kg N2O-N kg^{-1} N ha^{-1}$) resulting from N mineralization\n",
    "\n",
    "$ N2O - N_{ONdirect} $: N2O emissions ($kg N2O-N kg^{-1} N ha^{-1}$) resulting from organic fertilizers"
   ]
  },
  {
   "cell_type": "markdown",
   "metadata": {},
   "source": [
    "### Convert N2O - N to N2O\n",
    "\n",
    "$ N2O = N2O - N \\times \\frac{44}{28} $\n",
    "\n",
    "**where:**\n",
    "\n",
    "$ \\frac{44}{28} $: Conversion from N2O-N to N2O based on molecular mass"
   ]
  },
  {
   "cell_type": "markdown",
   "metadata": {},
   "source": [
    "### Calculate CO2 equivalent of N2O emissions\n",
    "\n",
    "$ CO2_e = N2O \\times 273P $\n",
    "\n",
    "**notes:**\n",
    "\n",
    "Holos uses 273 as the  Global Warming Potential value for N2O.\n",
    "\n",
    "**where:**\n",
    "\n",
    "$ 273 $: Global Warming Potential for N2O compared to CO2"
   ]
  }
 ],
 "metadata": {
  "language_info": {
   "name": "python"
  }
 },
 "nbformat": 4,
 "nbformat_minor": 2
}
