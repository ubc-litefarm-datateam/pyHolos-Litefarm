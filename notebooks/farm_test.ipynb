{
 "cells": [
  {
   "cell_type": "code",
   "execution_count": 1,
   "metadata": {},
   "outputs": [],
   "source": [
    "import math\n",
    "import json\n",
    "import numpy as np\n",
    "import os\n",
    "\n",
    "os.chdir('../')\n",
    "\n",
    "from src.crop_residue_calculator import CropResidueCalculator\n",
    "from src.emission_factor_calculator import EmissionFactorCalculator\n",
    "from src.emission_calculator import EmissionCalculator\n",
    "from src.sensitivity_emission_factor import SensitivityEmissionFactor\n",
    "from src.sensitivity_emission import SensitivityEmission"
   ]
  },
  {
   "cell_type": "code",
   "execution_count": 2,
   "metadata": {},
   "outputs": [],
   "source": [
    "all_data = {\n",
    "    'farm_data': {'area': np.array([0.1409]), \n",
    "                  'latitude': np.array([46.4761852]), \n",
    "                  'longitude': np.array([-71.5189528]), \n",
    "                  'crop': np.array(['Soybean'], dtype='<U7'), \n",
    "                  'yield': np.array([2700.]), \n",
    "                  'start_year': np.array([2021]), \n",
    "                  'end_year': np.array([2021]), \n",
    "                  'province': np.array(['Quebec'], dtype='<U6')}, \n",
    "    'crop_group_params': {'carbon_concentration': np.array([0.45]), \n",
    "                          'S_s': np.array([100.]), \n",
    "                          'S_r': np.array([100.]), \n",
    "                          'S_p': np.array([2.])}, \n",
    "    'crop_parameters': {'moisture': np.array([14.]), \n",
    "                        'R_p': np.array([0.304]), \n",
    "                        'R_s': np.array([0.455]), \n",
    "                        'R_r': np.array([0.146]), \n",
    "                        'R_e': np.array([0.095]), \n",
    "                        'N_p': np.array([67.]), \n",
    "                        'N_s': np.array([6.]), \n",
    "                        'N_r': np.array([10.]), \n",
    "                        'N_e': np.array([10.])}, \n",
    "    'climate_data': {'P': np.array([652.]), \n",
    "                     'PE': np.array([556.]), \n",
    "                     'FR_Topo': np.array([11.71]), \n",
    "                     'locations': np.array([[-71.5189528,  46.4761852]]), \n",
    "                     'soil_texture': np.array([0.49])}, \n",
    "    'modifiers': {'RF_AM': np.array([1.]), \n",
    "                  'RF_CS': np.array([1.]), \n",
    "                  'RF_NS': np.array([0.84]), \n",
    "                  'RF_Till': np.array([1.])}}"
   ]
  },
  {
   "cell_type": "code",
   "execution_count": 4,
   "metadata": {},
   "outputs": [
    {
     "data": {
      "text/plain": [
       "{'P': {'EF_CT_P': array([0.01721731]),\n",
       "  'EF_CT_PE': array([0.0100768]),\n",
       "  'EF_Topo': array([0.01721731]),\n",
       "  'EF': array([0.01098705])},\n",
       " 'PE': {'EF_CT_P': array([0.01721731]),\n",
       "  'EF_CT_PE': array([0.0100768]),\n",
       "  'EF_Topo': array([0.01721731]),\n",
       "  'EF': array([0.01098705])},\n",
       " 'FR_Topo': {'EF_CT_P': array([0.01721731]),\n",
       "  'EF_CT_PE': array([0.0100768]),\n",
       "  'EF_Topo': array([0.01721731]),\n",
       "  'EF': array([0.01098705])},\n",
       " 'soil_texture': {'EF_CT_P': array([0.01721731]),\n",
       "  'EF_CT_PE': array([0.0100768]),\n",
       "  'EF_Topo': array([0.01721731]),\n",
       "  'EF': array([0.01098705])},\n",
       " 'RF_AM': {'EF_CT_P': array([0.01721731]),\n",
       "  'EF_CT_PE': array([0.0100768]),\n",
       "  'EF_Topo': array([0.01721731]),\n",
       "  'EF': array([0.01098705])},\n",
       " 'RF_CS': {'EF_CT_P': array([0.01721731]),\n",
       "  'EF_CT_PE': array([0.0100768]),\n",
       "  'EF_Topo': array([0.01721731]),\n",
       "  'EF': array([0.01098705])},\n",
       " 'RF_NS': {'EF_CT_P': array([0.01721731]),\n",
       "  'EF_CT_PE': array([0.0100768]),\n",
       "  'EF_Topo': array([0.01721731]),\n",
       "  'EF': array([0.01098705])},\n",
       " 'RF_Till': {'EF_CT_P': array([0.01721731]),\n",
       "  'EF_CT_PE': array([0.0100768]),\n",
       "  'EF_Topo': array([0.01721731]),\n",
       "  'EF': array([0.01098705])}}"
      ]
     },
     "execution_count": 4,
     "metadata": {},
     "output_type": "execute_result"
    }
   ],
   "source": [
    "sci_ef = SensitivityEmissionFactor(all_data, operation_mode = 'scientific')\n",
    "\n",
    "ef_output = sci_ef.get_result()\n",
    "ef_output"
   ]
  },
  {
   "cell_type": "code",
   "execution_count": 10,
   "metadata": {},
   "outputs": [],
   "source": [
    "## This is the output from data loader class\n",
    "\n",
    "farm_data = {\n",
    "    'farm_data': {'area': 0.1409, 'location': '[<POINT (-71.519 46.476)>]', 'crop': 'Soybean', 'yield': 153158.2682753726, 'year': 2021}, \n",
    "    'crop_group_params': {'group': 'Annual', 'carbon_concentration': 0.45, 'S_s': 100, 'S_r': 100, 'S_p': 2}, \n",
    "    'crop_parameters': {'crop': 'Soybean', 'condition': 'Canada', 'moisture': 14, 'R_p': 0.304, 'R_s': 0.455, 'R_r': 0.146, 'R_e': 0.095, 'N_p': 67.0, 'N_s': 6.0, 'N_r': 10.0, 'N_e': 10.0}, \n",
    "    'climate_data': {'soil_texture': 'coarse', 'P': 652, 'PE': 556, 'FR_Topo': 11.71}, \n",
    "    'modifiers': {'RF_AM': 1.0, 'RF_CS': 1.0, 'RF_NS': 0.84, 'RF_Till': 1.0, 'RF_TX': 0.49}\n",
    "    }"
   ]
  },
  {
   "cell_type": "code",
   "execution_count": 11,
   "metadata": {},
   "outputs": [
    {
     "data": {
      "text/plain": [
       "{'n_crop_residue': 345.4322094189473, 'EF': 0.010987046260064493}"
      ]
     },
     "execution_count": 11,
     "metadata": {},
     "output_type": "execute_result"
    }
   ],
   "source": [
    "crop_residue_calculator = CropResidueCalculator(farm_data)\n",
    "emission_factor_calculator = EmissionFactorCalculator(farm_data)\n",
    "\n",
    "farm_n = crop_residue_calculator.get_crop_residue()\n",
    "farm_ef = emission_factor_calculator.get_ef()\n"
   ]
  },
  {
   "cell_type": "code",
   "execution_count": 12,
   "metadata": {},
   "outputs": [
    {
     "data": {
      "text/plain": [
       "1628.1749761143694"
      ]
     },
     "execution_count": 12,
     "metadata": {},
     "output_type": "execute_result"
    }
   ],
   "source": [
    "emission_calculator_a = EmissionCalculator(farm_ef, farm_n)\n",
    "farm_emission = emission_calculator_a.get_emission()\n",
    "farm_emission"
   ]
  }
 ],
 "metadata": {
  "kernelspec": {
   "display_name": "LiteFarmGHG",
   "language": "python",
   "name": "python3"
  },
  "language_info": {
   "codemirror_mode": {
    "name": "ipython",
    "version": 3
   },
   "file_extension": ".py",
   "mimetype": "text/x-python",
   "name": "python",
   "nbconvert_exporter": "python",
   "pygments_lexer": "ipython3",
   "version": "3.9.19"
  }
 },
 "nbformat": 4,
 "nbformat_minor": 2
}
