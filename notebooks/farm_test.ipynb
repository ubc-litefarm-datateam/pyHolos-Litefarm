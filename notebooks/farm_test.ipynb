{
 "cells": [
  {
   "cell_type": "code",
   "execution_count": 4,
   "metadata": {},
   "outputs": [],
   "source": [
    "import math\n",
    "import json\n",
    "import os\n",
    "os.chdir('../')\n",
    "\n",
    "from src.crop_residue_calculator import CropResidueCalculator\n",
    "from src.emission_factor_calculator import EmissionFactorCalculator\n",
    "from src.emission_calculator import EmissionCalculator"
   ]
  },
  {
   "cell_type": "code",
   "execution_count": 10,
   "metadata": {},
   "outputs": [],
   "source": [
    "## This is the output from data loader class\n",
    "\n",
    "farm_data = {\n",
    "    'farm_data': {'area': 0.1409, 'location': '[<POINT (-71.519 46.476)>]', 'crop': 'Soybean', 'yield': 153158.2682753726, 'year': 2021}, \n",
    "    'crop_group_params': {'group': 'Annual', 'carbon_concentration': 0.45, 'S_s': 100, 'S_r': 100, 'S_p': 2}, \n",
    "    'crop_parameters': {'crop': 'Soybean', 'condition': 'Canada', 'moisture': 14, 'R_p': 0.304, 'R_s': 0.455, 'R_r': 0.146, 'R_e': 0.095, 'N_p': 67.0, 'N_s': 6.0, 'N_r': 10.0, 'N_e': 10.0}, \n",
    "    'climate_data': {'soil_texture': 'coarse', 'P': 652, 'PE': 556, 'FR_Topo': 11.71}, \n",
    "    'modifiers': {'RF_AM': 1.0, 'RF_CS': 1.0, 'RF_NS': 0.84, 'RF_Till': 1.0, 'RF_TX': 0.49}\n",
    "    }"
   ]
  },
  {
   "cell_type": "code",
   "execution_count": 11,
   "metadata": {},
   "outputs": [
    {
     "data": {
      "text/plain": [
       "{'n_crop_residue': 345.4322094189473, 'EF': 0.010987046260064493}"
      ]
     },
     "execution_count": 11,
     "metadata": {},
     "output_type": "execute_result"
    }
   ],
   "source": [
    "crop_residue_calculator = CropResidueCalculator(farm_data)\n",
    "emission_factor_calculator = EmissionFactorCalculator(farm_data)\n",
    "\n",
    "farm_n = crop_residue_calculator.get_crop_residue()\n",
    "farm_ef = emission_factor_calculator.get_ef()\n"
   ]
  },
  {
   "cell_type": "code",
   "execution_count": 12,
   "metadata": {},
   "outputs": [
    {
     "data": {
      "text/plain": [
       "1628.1749761143694"
      ]
     },
     "execution_count": 12,
     "metadata": {},
     "output_type": "execute_result"
    }
   ],
   "source": [
    "emission_calculator_a = EmissionCalculator(farm_ef, farm_n)\n",
    "farm_emission = emission_calculator_a.get_emission()\n",
    "farm_emission"
   ]
  }
 ],
 "metadata": {
  "kernelspec": {
   "display_name": "LiteFarmGHG",
   "language": "python",
   "name": "python3"
  },
  "language_info": {
   "codemirror_mode": {
    "name": "ipython",
    "version": 3
   },
   "file_extension": ".py",
   "mimetype": "text/x-python",
   "name": "python",
   "nbconvert_exporter": "python",
   "pygments_lexer": "ipython3",
   "version": "3.9.19"
  }
 },
 "nbformat": 4,
 "nbformat_minor": 2
}
