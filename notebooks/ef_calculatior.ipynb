{
 "cells": [
  {
   "cell_type": "code",
   "execution_count": 2,
   "metadata": {},
   "outputs": [],
   "source": [
    "import math\n",
    "import numpy as np\n",
    "import os\n",
    "os.chdir('../')"
   ]
  },
  {
   "cell_type": "markdown",
   "metadata": {},
   "source": [
    "# EF Calc Scientific"
   ]
  },
  {
   "cell_type": "code",
   "execution_count": 7,
   "metadata": {},
   "outputs": [],
   "source": [
    "from src.emission_factor_calculator import EmissionFactorCalculator"
   ]
  },
  {
   "cell_type": "code",
   "execution_count": 23,
   "metadata": {},
   "outputs": [],
   "source": [
    "class SensitivityEmissionFactor:\n",
    "    def __init__(self, farm_data, operation_mode = 'farmer'):\n",
    "        self.farm_data = farm_data\n",
    "        self.variables = list(farm_data['climate_data'].keys()) + list(farm_data['modifiers'].keys())\n",
    "        self.mode = operation_mode\n",
    "        self.results = {}\n",
    "        self.output = {}\n",
    "\n",
    "    def perform_analysis(self):\n",
    "        # Iterating over all variables\n",
    "        for variable in self.variables:\n",
    "            # Initialize dictionary for each variable to store lists of results\n",
    "            self.results[variable] = {}\n",
    "            # Extract array values for the current variable\n",
    "            values_array = self.farm_data['climate_data'].get(variable, []) + self.farm_data['modifiers'].get(variable, [])\n",
    "            \n",
    "            # Initialize results storage for this variable\n",
    "            init_dict = {}\n",
    "            for index in range(len(values_array)):\n",
    "                modified_data = self.prepare_data_for_efc(variable, values_array[index])\n",
    "                efc = EmissionFactorCalculator(modified_data)\n",
    "                ef_results = efc.get_ef()\n",
    "                \n",
    "                # Initialize dictionary to collect results by ef type\n",
    "                if index == 0:  # Setup the dictionary with keys and empty lists\n",
    "                    for key in ef_results.keys():\n",
    "                        init_dict[key] = []\n",
    "                \n",
    "                # Append results to the corresponding key\n",
    "                for key, value in ef_results.items():\n",
    "                    init_dict[key].append(value)\n",
    "            \n",
    "            # Store aggregated results\n",
    "            for key, value_list in init_dict.items():\n",
    "                self.results[variable][key] = np.array(value_list)\n",
    "        \n",
    "        return self.results\n",
    "    \n",
    "    def get_result(self):\n",
    "        output_temp = self.perform_analysis()\n",
    "        if self.mode == 'farmer':\n",
    "            self.output = output_temp['P']\n",
    "        elif self.mode == 'scientific':\n",
    "            self.output = output_temp\n",
    "            \n",
    "        return self.output\n",
    "\n",
    "    def prepare_data_for_efc(self, selected_variable, value):\n",
    "        data = {'climate_data': {}, 'modifiers': {}}\n",
    "        # Initialize all variables with their default values\n",
    "        for var in self.variables:\n",
    "            if var in self.farm_data['climate_data']:\n",
    "                data['climate_data'][var] = self.farm_data['climate_data'][var][0]\n",
    "            if var in self.farm_data['modifiers']:\n",
    "                data['modifiers'][var] = self.farm_data['modifiers'][var][0]\n",
    "        \n",
    "        # Replace the value of the selected variable with the current value from its array\n",
    "        if selected_variable in data['climate_data']:\n",
    "            data['climate_data'][selected_variable] = value\n",
    "        elif selected_variable in data['modifiers']:\n",
    "            data['modifiers'][selected_variable] = value\n",
    "        \n",
    "        return data"
   ]
  },
  {
   "cell_type": "code",
   "execution_count": 24,
   "metadata": {},
   "outputs": [
    {
     "data": {
      "text/plain": [
       "{'EF_CT_P': array([0.01721731, 0.01731365, 0.01741053]),\n",
       " 'EF_CT_PE': array([0.01721731, 0.01721731, 0.01721731]),\n",
       " 'EF_Topo': array([0.01721731, 0.01731365, 0.01741053]),\n",
       " 'EF': array([0.0266935 , 0.02684287, 0.02699307])}"
      ]
     },
     "execution_count": 24,
     "metadata": {},
     "output_type": "execute_result"
    }
   ],
   "source": [
    "farm_data = {'climate_data': {'P': [652,653,654], 'PE': [652,653,654], 'FR_Topo': [11.71,11.71,11.71]},\n",
    "             'modifiers': {'RF_AM': [1.0,1.0,1.0], 'RF_CS': [1.0,1.0,1.0], 'RF_NS': [1.0,1.0,1.0], 'RF_Till': [1.0,1.0,1.0], 'RF_TX': [1.0,1.0,1.0]}}\n",
    "sa = SensitivityEmissionFactor(farm_data)\n",
    "results = sa.get_result()\n",
    "\n",
    "results"
   ]
  },
  {
   "cell_type": "code",
   "execution_count": 25,
   "metadata": {},
   "outputs": [
    {
     "data": {
      "text/plain": [
       "{'P': {'EF_CT_P': array([0.01721731, 0.01731365, 0.01741053]),\n",
       "  'EF_CT_PE': array([0.01721731, 0.01721731, 0.01721731]),\n",
       "  'EF_Topo': array([0.01721731, 0.01731365, 0.01741053]),\n",
       "  'EF': array([0.0266935 , 0.02684287, 0.02699307])},\n",
       " 'PE': {'EF_CT_P': array([0.01721731, 0.01721731, 0.01721731]),\n",
       "  'EF_CT_PE': array([0.01721731, 0.01731365, 0.01741053]),\n",
       "  'EF_Topo': array([0.01721731, 0.01722859, 0.01723994]),\n",
       "  'EF': array([0.0266935 , 0.02671099, 0.02672858])},\n",
       " 'FR_Topo': {'EF_CT_P': array([0.01721731, 0.01721731, 0.01721731]),\n",
       "  'EF_CT_PE': array([0.01721731, 0.01721731, 0.01721731]),\n",
       "  'EF_Topo': array([0.01721731, 0.01721731, 0.01721731]),\n",
       "  'EF': array([0.0266935, 0.0266935, 0.0266935])},\n",
       " 'RF_AM': {'EF_CT_P': array([0.01721731, 0.01721731, 0.01721731]),\n",
       "  'EF_CT_PE': array([0.01721731, 0.01721731, 0.01721731]),\n",
       "  'EF_Topo': array([0.01721731, 0.01721731, 0.01721731]),\n",
       "  'EF': array([0.0266935, 0.0266935, 0.0266935])},\n",
       " 'RF_CS': {'EF_CT_P': array([0.01721731, 0.01721731, 0.01721731]),\n",
       "  'EF_CT_PE': array([0.01721731, 0.01721731, 0.01721731]),\n",
       "  'EF_Topo': array([0.01721731, 0.01721731, 0.01721731]),\n",
       "  'EF': array([0.0266935, 0.0266935, 0.0266935])},\n",
       " 'RF_NS': {'EF_CT_P': array([0.01721731, 0.01721731, 0.01721731]),\n",
       "  'EF_CT_PE': array([0.01721731, 0.01721731, 0.01721731]),\n",
       "  'EF_Topo': array([0.01721731, 0.01721731, 0.01721731]),\n",
       "  'EF': array([0.0266935, 0.0266935, 0.0266935])},\n",
       " 'RF_Till': {'EF_CT_P': array([0.01721731, 0.01721731, 0.01721731]),\n",
       "  'EF_CT_PE': array([0.01721731, 0.01721731, 0.01721731]),\n",
       "  'EF_Topo': array([0.01721731, 0.01721731, 0.01721731]),\n",
       "  'EF': array([0.0266935, 0.0266935, 0.0266935])},\n",
       " 'RF_TX': {'EF_CT_P': array([0.01721731, 0.01721731, 0.01721731]),\n",
       "  'EF_CT_PE': array([0.01721731, 0.01721731, 0.01721731]),\n",
       "  'EF_Topo': array([0.01721731, 0.01721731, 0.01721731]),\n",
       "  'EF': array([0.0266935, 0.0266935, 0.0266935])}}"
      ]
     },
     "execution_count": 25,
     "metadata": {},
     "output_type": "execute_result"
    }
   ],
   "source": [
    "farm_data = {'climate_data': {'P': [652,653,654], 'PE': [652,653,654], 'FR_Topo': [11.71,11.71,11.71]},\n",
    "             'modifiers': {'RF_AM': [1.0,1.0,1.0], 'RF_CS': [1.0,1.0,1.0], 'RF_NS': [1.0,1.0,1.0], 'RF_Till': [1.0,1.0,1.0], 'RF_TX': [1.0,1.0,1.0]}}\n",
    "sa = SensitivityEmissionFactor(farm_data, operation_mode = 'scientific')\n",
    "results = sa.perform_analysis()\n",
    "\n",
    "results"
   ]
  },
  {
   "cell_type": "markdown",
   "metadata": {},
   "source": [
    "# Emission Calc Scientific"
   ]
  },
  {
   "cell_type": "code",
   "execution_count": 26,
   "metadata": {},
   "outputs": [],
   "source": [
    "from src.emission_calculator import EmissionCalculator"
   ]
  },
  {
   "cell_type": "code",
   "execution_count": 27,
   "metadata": {},
   "outputs": [],
   "source": [
    "farm_data = {'climate_data': {'P': [652,653,654], 'PE': [652,653,654], 'FR_Topo': [11.71,11.71,11.71]},\n",
    "             'modifiers': {'RF_AM': [1.0,1.0,1.0], 'RF_CS': [1.0,1.0,1.0], 'RF_NS': [1.0,1.0,1.0], 'RF_Till': [1.0,1.0,1.0], 'RF_TX': [1.0,1.0,1.0]}}\n",
    "sa = SensitivityEmissionFactor(farm_data)\n",
    "ef_data = sa.perform_analysis()\n",
    "\n",
    "n_data = {'yield': {'n_crop_residue': [1,2,3]}, 'moisture': {'n_crop_residue': [1,2,3]}, 'carbon_concentration': {'n_crop_residue': [11,22,33]}}"
   ]
  },
  {
   "cell_type": "code",
   "execution_count": 28,
   "metadata": {},
   "outputs": [],
   "source": [
    "class SensitivityEmission:\n",
    "    def __init__(self, ef_data, n_data, operation_mode = 'farmer'):\n",
    "        self.ef_data = ef_data\n",
    "        self.n_data = n_data\n",
    "        self.variables = list(ef_data.keys()) + list(n_data.keys())\n",
    "        self.mode = operation_mode\n",
    "        self.results = {}\n",
    "        self.output = {}\n",
    "\n",
    "    def perform_analysis(self):\n",
    "        # Iterating over all variables\n",
    "        for variable in self.variables:\n",
    "            # Initialize dictionary for each variable to store lists of results\n",
    "            self.results[variable] = {}\n",
    "            # Extract array values for the current variable\n",
    "            if variable in self.ef_data.keys():\n",
    "                values_array = self.ef_data.get(variable).get('EF')\n",
    "            elif variable in self.n_data.keys():\n",
    "                values_array = self.n_data.get(variable).get('n_crop_residue')\n",
    "            \n",
    "            # Initialize results storage for this variable\n",
    "            init_dict = {}\n",
    "            for index in range(len(values_array)):\n",
    "                modified_ef = self.prepare_ef_input_for_ec(variable, values_array[index])\n",
    "                modified_n = self.prepare_n_input_for_ec(variable, values_array[index])\n",
    "                ec = EmissionCalculator(modified_ef, modified_n)\n",
    "                emission_results = ec.get_emission()\n",
    "                \n",
    "                # Initialize dictionary to collect results\n",
    "                if index == 0:  # Setup the dictionary with keys and empty lists\n",
    "                    for key in emission_results.keys():\n",
    "                        init_dict[key] = []\n",
    "                \n",
    "                # Append results to the corresponding key\n",
    "                for key, value in emission_results.items():\n",
    "                    init_dict[key].append(value)\n",
    "            \n",
    "            # Store aggregated results\n",
    "            for key, value_list in init_dict.items():\n",
    "                self.results[variable][key] = np.array(value_list)\n",
    "        \n",
    "        return self.results\n",
    "    \n",
    "    def get_result(self):\n",
    "        output_temp = self.perform_analysis()\n",
    "        if self.mode == 'farmer':\n",
    "            self.output = output_temp['P']\n",
    "        elif self.mode == 'scientific':\n",
    "            self.output = output_temp\n",
    "            \n",
    "        return self.output\n",
    "    \n",
    "    def prepare_ef_input_for_ec(self, selected_variable, value):\n",
    "\n",
    "        ef_input = {'EF': self.ef_data.get('P').get('EF')[0]}\n",
    "        if selected_variable in self.ef_data:\n",
    "            ef_input['EF'] = value\n",
    "        return ef_input\n",
    "\n",
    "\n",
    "    def prepare_n_input_for_ec(self, selected_variable, value):\n",
    "        n_input = {'n_crop_residue': self.n_data.get('moisture').get('n_crop_residue')[0]}\n",
    "        \n",
    "        if selected_variable in self.n_data:\n",
    "            n_input['n_crop_residue'] = value\n",
    "        return n_input  \n",
    "    "
   ]
  },
  {
   "cell_type": "code",
   "execution_count": 30,
   "metadata": {},
   "outputs": [
    {
     "data": {
      "text/plain": [
       "{'n_crop_direct': array([0.0266935 , 0.02684287, 0.02699307]),\n",
       " 'no2_crop_direct': array([0.04194693, 0.04218165, 0.04241768]),\n",
       " 'co2_crop_direct': array([11.45151323, 11.51559129, 11.5800279 ])}"
      ]
     },
     "execution_count": 30,
     "metadata": {},
     "output_type": "execute_result"
    }
   ],
   "source": [
    "sa_emission = SensitivityEmission(ef_data, n_data)\n",
    "emission_data = sa_emission.get_result()\n",
    "\n",
    "emission_data"
   ]
  },
  {
   "cell_type": "code",
   "execution_count": 31,
   "metadata": {},
   "outputs": [
    {
     "data": {
      "text/plain": [
       "{'P': {'n_crop_direct': array([0.0266935 , 0.02684287, 0.02699307]),\n",
       "  'no2_crop_direct': array([0.04194693, 0.04218165, 0.04241768]),\n",
       "  'co2_crop_direct': array([11.45151323, 11.51559129, 11.5800279 ])},\n",
       " 'PE': {'n_crop_direct': array([0.0266935 , 0.02671099, 0.02672858]),\n",
       "  'no2_crop_direct': array([0.04194693, 0.04197442, 0.04200206]),\n",
       "  'co2_crop_direct': array([11.45151323, 11.45901677, 11.4665623 ])},\n",
       " 'FR_Topo': {'n_crop_direct': array([0.0266935, 0.0266935, 0.0266935]),\n",
       "  'no2_crop_direct': array([0.04194693, 0.04194693, 0.04194693]),\n",
       "  'co2_crop_direct': array([11.45151323, 11.45151323, 11.45151323])},\n",
       " 'RF_AM': {'n_crop_direct': array([0.0266935, 0.0266935, 0.0266935]),\n",
       "  'no2_crop_direct': array([0.04194693, 0.04194693, 0.04194693]),\n",
       "  'co2_crop_direct': array([11.45151323, 11.45151323, 11.45151323])},\n",
       " 'RF_CS': {'n_crop_direct': array([0.0266935, 0.0266935, 0.0266935]),\n",
       "  'no2_crop_direct': array([0.04194693, 0.04194693, 0.04194693]),\n",
       "  'co2_crop_direct': array([11.45151323, 11.45151323, 11.45151323])},\n",
       " 'RF_NS': {'n_crop_direct': array([0.0266935, 0.0266935, 0.0266935]),\n",
       "  'no2_crop_direct': array([0.04194693, 0.04194693, 0.04194693]),\n",
       "  'co2_crop_direct': array([11.45151323, 11.45151323, 11.45151323])},\n",
       " 'RF_Till': {'n_crop_direct': array([0.0266935, 0.0266935, 0.0266935]),\n",
       "  'no2_crop_direct': array([0.04194693, 0.04194693, 0.04194693]),\n",
       "  'co2_crop_direct': array([11.45151323, 11.45151323, 11.45151323])},\n",
       " 'RF_TX': {'n_crop_direct': array([0.0266935, 0.0266935, 0.0266935]),\n",
       "  'no2_crop_direct': array([0.04194693, 0.04194693, 0.04194693]),\n",
       "  'co2_crop_direct': array([11.45151323, 11.45151323, 11.45151323])},\n",
       " 'yield': {'n_crop_direct': array([0.0266935 , 0.05338701, 0.08008051]),\n",
       "  'no2_crop_direct': array([0.04194693, 0.08389387, 0.1258408 ]),\n",
       "  'co2_crop_direct': array([11.45151323, 22.90302646, 34.35453969])},\n",
       " 'moisture': {'n_crop_direct': array([0.0266935 , 0.05338701, 0.08008051]),\n",
       "  'no2_crop_direct': array([0.04194693, 0.08389387, 0.1258408 ]),\n",
       "  'co2_crop_direct': array([11.45151323, 22.90302646, 34.35453969])},\n",
       " 'carbon_concentration': {'n_crop_direct': array([0.29362854, 0.58725709, 0.88088563]),\n",
       "  'no2_crop_direct': array([0.46141628, 0.92283257, 1.38424885]),\n",
       "  'co2_crop_direct': array([125.96664553, 251.93329107, 377.8999366 ])}}"
      ]
     },
     "execution_count": 31,
     "metadata": {},
     "output_type": "execute_result"
    }
   ],
   "source": [
    "sa_emission = SensitivityEmission(ef_data, n_data, operation_mode = 'scientific')\n",
    "emission_data = sa_emission.get_result()\n",
    "\n",
    "emission_data"
   ]
  },
  {
   "cell_type": "markdown",
   "metadata": {},
   "source": [
    "## 3. Calculate emission factor"
   ]
  },
  {
   "cell_type": "code",
   "execution_count": 6,
   "metadata": {},
   "outputs": [],
   "source": [
    "class EmissionFactorCalculator:\n",
    "\n",
    "    def __init__(self ,farm_data):\n",
    "        ## validate input data\n",
    "        self.validate_input(farm_data)\n",
    "        ## initialize instance variables with validated data\n",
    "        self.data = farm_data\n",
    "        self.P = farm_data['climate_data']['P']\n",
    "        self.PE = farm_data['climate_data']['PE']\n",
    "        self.FR_Topo = farm_data['climate_data']['FR_Topo']\n",
    "        self.RF_TX = farm_data['modifiers']['RF_TX']\n",
    "        self.RF_NS = farm_data['modifiers']['RF_NS']\n",
    "        self.RF_till = farm_data['modifiers']['RF_Till']\n",
    "        self.RF_CS = farm_data['modifiers']['RF_CS']\n",
    "        self.RF_AM = farm_data['modifiers']['RF_AM']\n",
    "\n",
    "    def validate_input(self, farm_data):\n",
    "        ## data should include all required fields and should be numbers\n",
    "\n",
    "        required_climate_keys = ['P', 'PE', 'FR_Topo']\n",
    "        for key in required_climate_keys:\n",
    "            if key not in farm_data['climate_data']:\n",
    "                raise ValueError(f\"Missing required climate data key: {key}\")\n",
    "            if not isinstance(farm_data['climate_data'][key], (int, float)):\n",
    "                raise TypeError(f\"Value for climate_data[{key}] must be a number (int or float)\")\n",
    "    \n",
    "        required_modifiers_keys = ['RF_TX', 'RF_NS', 'RF_Till', 'RF_CS', 'RF_AM']\n",
    "        for key in required_modifiers_keys:\n",
    "            if key not in farm_data['modifiers']:\n",
    "                raise ValueError(f\"Missing required modifiers key: {key}\")\n",
    "            if not isinstance(farm_data['modifiers'][key], (int, float)):\n",
    "                raise TypeError(f\"Value for modifiers[{key}] must be a number (int or float)\")    \n",
    "\n",
    "    def calculate_ef_ct(self):\n",
    "        ## calculate EF_CT_P and EF_CT_PE based on P and PE \n",
    "        ## equation 2.5.1-1 and 2.5.1-2\n",
    "        self.EF_CT_P = math.exp(0.00558 * self.P - 7.7)\n",
    "        self.EF_CT_PE = math.exp(0.00558 * self.PE - 7.7)\n",
    "\n",
    "        return self.EF_CT_P, self.EF_CT_PE\n",
    "    \n",
    "    def calculate_ef_topo(self):\n",
    "        ## calculate EF_Topo\n",
    "        ## equation 2.5.2-1, 2.5.2-2, and 2.5.2-3\n",
    "        ## ensure EF_CT_P and EF_CT_PE are calculated\n",
    "        if not hasattr(self, 'EF_CT_P') or not hasattr(self, 'EF_CT_PE'):\n",
    "            self.calculate_ef_ct()\n",
    "\n",
    "        intermediate_factor = self.P/self.PE\n",
    "\n",
    "        if intermediate_factor > 1:\n",
    "            self.EF_Topo = self.EF_CT_P\n",
    "        elif self.P == self.PE:\n",
    "            self.EF_Topo = self.EF_CT_PE\n",
    "        else:\n",
    "            self.EF_Topo = ((self.EF_CT_PE * self.FR_Topo/100) + (self.EF_CT_P * (1 - self.FR_Topo/100)))\n",
    "\n",
    "        return self.EF_Topo\n",
    "    \n",
    "    def calculate_emission_factor(self):\n",
    "        ## calculate emission factor\n",
    "        ## equation 2.5.3-2 and 2.5.4-1\n",
    "        ## ensure EF_CT_P and EF_CT_PE are calculated\n",
    "        if not hasattr(self, 'EF_Topo'):\n",
    "            self.calculate_ef_topo()\n",
    "        \n",
    "        EF_base = (self.EF_Topo*self.RF_TX) * (1/0.645)\n",
    "\n",
    "        self.EF = EF_base * self.RF_NS * self.RF_till * self.RF_CS * self.RF_AM\n",
    "\n",
    "        return self.EF\n",
    "            \n",
    "    def get_ef(self):\n",
    "        if not hasattr(self, 'EF'):\n",
    "            self.calculate_emission_factor()\n",
    "\n",
    "        self.data_dict = {'EF_CT_P': self.EF_CT_P,\n",
    "                          'EF_CT_PE': self.EF_CT_PE,\n",
    "                          'EF_Topo': self.EF_Topo,\n",
    "                          'EF': self.EF}\n",
    "        \n",
    "        return self.data_dict\n"
   ]
  },
  {
   "cell_type": "code",
   "execution_count": 9,
   "metadata": {},
   "outputs": [
    {
     "name": "stdout",
     "output_type": "stream",
     "text": [
      "EF_Topo for the farm:  0.0025232347031386142\n",
      "Emission Factor for the farm:  0.0032860731017619158\n"
     ]
    },
    {
     "data": {
      "text/plain": [
       "{'EF_CT_P': 0.001099631670775916,\n",
       " 'EF_CT_PE': 0.019905484145844587,\n",
       " 'EF_Topo': 0.0025232347031386142,\n",
       " 'EF': 0.0032860731017619158}"
      ]
     },
     "execution_count": 9,
     "metadata": {},
     "output_type": "execute_result"
    }
   ],
   "source": [
    "test_data = {\n",
    "            'climate_data' : {\n",
    "                'P': 159,\n",
    "                'PE': 678,\n",
    "                'FR_Topo': 7.57\n",
    "            },\n",
    "            'modifiers' : {\n",
    "                'RF_TX': 1,\n",
    "                'RF_NS': 0.84,\n",
    "                'RF_Till': 1,\n",
    "                'RF_CS': 1,\n",
    "                'RF_AM': 1\n",
    "            }\n",
    "}\n",
    "\n",
    "ef_calculator = EmissionFactorCalculator(test_data)\n",
    "\n",
    "print('EF_Topo for the farm: ', ef_calculator.calculate_ef_topo())\n",
    "print('Emission Factor for the farm: ', ef_calculator.calculate_emission_factor())\n",
    "\n",
    "test_farm_ef = ef_calculator.get_ef()\n",
    "test_farm_ef"
   ]
  },
  {
   "cell_type": "markdown",
   "metadata": {},
   "source": [
    "## 4. Calculate CRN nitrogen emission "
   ]
  },
  {
   "cell_type": "code",
   "execution_count": 13,
   "metadata": {},
   "outputs": [],
   "source": [
    "class EmissionCalculator:\n",
    "    def __init__(self, ef_data, n_data):\n",
    "        ## validate input data\n",
    "        self.validate_input(ef_data, n_data)\n",
    "        ## initialize instance variables with validated data\n",
    "        self.ef_data = ef_data\n",
    "        self.n_data = n_data\n",
    "        self.EF = ef_data['EF']\n",
    "        self.n_crop_residue = n_data['n_crop_residue']\n",
    "        \n",
    "    \n",
    "    def validate_input(self, ef_data, n_data):\n",
    "        ## data should include all required fields and should be numbers\n",
    "        required_ef_key = ['EF']\n",
    "        for key in required_ef_key:\n",
    "            if key not in ef_data:\n",
    "                raise ValueError(f\"Missing required key: {key}\")\n",
    "            if not isinstance(ef_data[key], (int, float)):\n",
    "                raise TypeError(f\"Value for {key} must be a number (int or float)\")\n",
    "            \n",
    "        required_n_keys = ['n_crop_residue']\n",
    "        for key in required_n_keys:\n",
    "            if key not in n_data:\n",
    "                raise ValueError(f\"Missing required key: {key}\")\n",
    "            if not isinstance(n_data[key], (int, float)):\n",
    "                raise TypeError(f\"Value for {key} must be a number (int or float)\")            \n",
    "            \n",
    "            \n",
    "    def calculate_n_crn_direct(self):\n",
    "        ## calculate n_crn_direct\n",
    "        ## equation 2.6.5-2\n",
    "        self.n_crn_direct = self.n_crop_residue * self.EF\n",
    "\n",
    "        return self.n_crn_direct\n",
    "    \n",
    "    def calculate_n_other_direct(self):\n",
    "        ## set values for other sources of n_direct\n",
    "        ## currently set to 0, cen be modified to include other sources\n",
    "        self.n_sn_direct = 0\n",
    "        self.n_crnmin_direct = 0\n",
    "        self.n_on_direct = 0\n",
    "    \n",
    "    def calculate_n_crop_direct(self):\n",
    "        ## calculate n_crop_direct\n",
    "        ## equation 2.6.9-1\n",
    "        if not hasattr(self, 'n_sn_direct') or not hasattr(self, 'n_crnmin_direct') or not hasattr(self, 'n_on_direct'):\n",
    "            self.calculate_n_other_direct()\n",
    "        if not hasattr(self, 'n_crn_direct'):\n",
    "            self.calculate_n_crn_direct()\n",
    "\n",
    "        self.n_crop_direct = self.n_sn_direct + self.n_crnmin_direct + self.n_on_direct + self.n_crn_direct\n",
    "\n",
    "        return self.n_crop_direct\n",
    "    \n",
    "    def convert_n_crop_direct_to_n2o(self):\n",
    "        ## calculate n02_crop_direct using n_crop_direct\n",
    "        ## using constant 44/28\n",
    "        if not hasattr(self, 'n_crop_direct'):\n",
    "            self.calculate_n_crop_direct()\n",
    "\n",
    "        N_TO_NO2 = 44/28\n",
    "\n",
    "        self.no2_crop_direct = self.n_crop_direct * N_TO_NO2\n",
    "\n",
    "        return self.no2_crop_direct\n",
    "    \n",
    "    def calculate_n2o_crop_direct_to_co2e(self):\n",
    "        ## calculate co2 equavilent for n2o_crop_direct\n",
    "        ## using constant 273, the same value used by Holos\n",
    "        if not hasattr(self, 'no2_crop_direct'):\n",
    "            self.convert_n_crop_direct_to_n2o()\n",
    "\n",
    "        NO2_TO_CO2 = 273\n",
    "\n",
    "        self.co2_crop_direct = self.no2_crop_direct * NO2_TO_CO2\n",
    "\n",
    "        return self.co2_crop_direct\n",
    "    \n",
    "    def get_emission(self):\n",
    "        if not hasattr(self, 'co2_crop_direct'):\n",
    "            self.calculate_n2o_crop_direct_to_co2e()\n",
    "\n",
    "        self.data_dict = {\n",
    "            'n_crop_direct': self.n_crop_direct,\n",
    "            'no2_crop_direct': self.no2_crop_direct,\n",
    "            'co2_crop_direct': self.co2_crop_direct\n",
    "        }\n",
    "\n",
    "        return self.data_dict\n",
    "\n"
   ]
  },
  {
   "cell_type": "code",
   "execution_count": 14,
   "metadata": {},
   "outputs": [
    {
     "name": "stdout",
     "output_type": "stream",
     "text": [
      "Crop N direct:  1.8410121508286712\n",
      "Crop NO2 direct:  2.8930190941593406\n",
      "Crop CO2e direct:  789.7942127055\n"
     ]
    },
    {
     "data": {
      "text/plain": [
       "{'n_crop_direct': 1.8410121508286712,\n",
       " 'no2_crop_direct': 2.8930190941593406,\n",
       " 'co2_crop_direct': 789.7942127055}"
      ]
     },
     "execution_count": 14,
     "metadata": {},
     "output_type": "execute_result"
    }
   ],
   "source": [
    "# test_data = {\n",
    "#     'n_crop_residue': 560.2468642105264,\n",
    "#     'EF': 0.0032860731017619158\n",
    "# }\n",
    "\n",
    "test_farm_ef\n",
    "test_farm_n = {\n",
    "    'n_crop_residue': 560.2468642105264\n",
    "}\n",
    "\n",
    "emission_calculator = EmissionCalculator(test_farm_ef, test_farm_n)\n",
    "\n",
    "print('Crop N direct: ', emission_calculator.calculate_n_crop_direct())\n",
    "print('Crop NO2 direct: ', emission_calculator.convert_n_crop_direct_to_n2o())\n",
    "print('Crop CO2e direct: ', emission_calculator.calculate_n2o_crop_direct_to_co2e())\n",
    "\n",
    "test_farm_emission = emission_calculator.get_emission()\n",
    "test_farm_emission"
   ]
  }
 ],
 "metadata": {
  "kernelspec": {
   "display_name": "LiteFarmGHG",
   "language": "python",
   "name": "python3"
  },
  "language_info": {
   "codemirror_mode": {
    "name": "ipython",
    "version": 3
   },
   "file_extension": ".py",
   "mimetype": "text/x-python",
   "name": "python",
   "nbconvert_exporter": "python",
   "pygments_lexer": "ipython3",
   "version": "3.9.19"
  }
 },
 "nbformat": 4,
 "nbformat_minor": 2
}
