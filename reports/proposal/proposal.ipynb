{
 "cells": [
  {
   "cell_type": "raw",
   "id": "59ef9593-701e-4f5b-bd18-e410f0dc187f",
   "metadata": {},
   "source": [
    "---\n",
    "title: \"Capstone Project Proposal\"\n",
    "subtitle: \"Empowering Agriculture: Enhanced GHG Emissions Modeling\"\n",
    "author: \"He Ma, Hancheng Qin, Yi Han\"\n",
    "toc: true\n",
    "number-sections: true\n",
    "format:\n",
    "  html: default\n",
    "  pdf: default\n",
    "bibliography: references.bib\n",
    "crossref:\n",
    "  fig-title: \"**Figure**\"\n",
    "  custom:\n",
    "    - kind: float\n",
    "      reference-prefix: Table A\n",
    "      space-before-numbering: false\n",
    "      key: apptbl\n",
    "      latex-env: apptbl\n",
    "      latex-list-of-description: Appendix Table\n",
    "jupyter:\n",
    "  python3\n",
    "---"
   ]
  },
  {
   "cell_type": "markdown",
   "id": "aea5fd03-1910-432c-bdfa-cfc309d0e5dc",
   "metadata": {},
   "source": [
    "# Executive Summary\n",
    "\n",
    "The project aims to refine and enhance existing GHG modeling for the LiteFarm platform, specifically focusing on nitrous oxide ($N_2O$) emissions. The project has two main objectives. First, the initiative aims to improve existing modeling framework to incorporate dynamic global data for greater accuracy and broader applicability. Second, the project will conduct sensitivity analysis to identify influential factors on emissions estimation to guide targeted data collection. Deliverables will feature an updated dashboard for visualizing emissions and a Python script for automated data integration and GHG calculation. The broader goal is to provide actionable insights for stakeholders, aiding decision-making in sustainable agricultural practices.\n",
    "\n",
    "\n",
    "# Introduction\n",
    "\n",
    "Climate change poses a critical challenge to the sustainability of our planet, largely due to rising greenhouse gas (GHG) emissions. Agriculture is a major contributor, with activities such as livestock rearing, fertilizer use, and land management practices contributing heavily to GHG emissions. Quantifying agricultural GHG emissions can help optimize farming practices from crop selection to tillage methods, thereby reducing emissions. Our broader objective is to empower stakeholders, including farmers, researchers, and policymakers to make data-driven decisions, transforming sustainability into a measurable and actionable goal.\n",
    "\n",
    "This project focuses on a potent greenhouse gas, nitrous oxide ($N_2O$); and we propose to refine the broad problem into two objectives: (1) enhance the existing GHG emissions modeling framework by integrating comprehensive global data; and (2) conduct sensitivity analyses to determine how changes in input parameters affect GHG emission estimates\n",
    "\n",
    "\n",
    "## Enhanced Modeling\n",
    "\n",
    "The agricultural GHG model HOLOS uses static model parameters from a Canadian context. Enhanced modeling will incorporate dynamic datasets that reflect global soil, climate, and crop characteristics. Our model aims to be more robust and adaptable to global agricultural practices. \n",
    "\n",
    "\n",
    "## Sensitivity Analysis\n",
    "\n",
    "Sensitivity analysis will pinpoint the most significant factors influencing emissions. Gaining insights from these analyses can help refine our data gathering methods, improving both the accuracy and dependability of our models. It is worth noting that future analysis plans to expand to carbon dioxide ($CO_2$) and methane ($CH_4$) as more data become available from our partner.\n",
    "\n",
    "\n",
    "## Deliverables  \n",
    "\n",
    "Our project will deliver a comprehensive data product suite tailored for the LiteFarm platform. \n",
    "\n",
    "* An updated module in the LiteFarm dashboard that allows users to calculate and visualize GHG emissions under various farming scenarios. This feature will support decision-making processes by providing actionable insights to the users.\n",
    "* A Python script that calculates GHG emissions with our updated GHG modeling framework. The script includes a data pipeline that automates the collection, processing, and/or integration of various data sources into the LiteFarm system. The script not only performs precise GHG calculations but also ensures the data used is consistently up-to-date and relevant.\n",
    "* Comprehensive documentation and user guides articulating the functionalities of the new features, including methodologies and data sources used in the GHG models and instructions for utilizing the dashboard.\n",
    "\n",
    "By delivering these components, our project will provide LiteFarm and its users with a tool to address the pressing issue of GHG emissions in agriculture, thereby contributing to the global effort to combat climate change."
   ]
  },
  {
   "cell_type": "markdown",
   "id": "cba285d6-9007-43d1-b036-9c96ea0d5891",
   "metadata": {},
   "source": [
    "# Data Science Techniques\n",
    "\n",
    "\n",
    "## Data description\n",
    "\n",
    "The GHG modeling framework employed by LiteFarm is derived from the Holos project [@Holos2022], an open source software developed for estimating GHG emissions in Canadian farming systems. This model requires 22 distinct parameters for estimating $N_2O$ emissions, including farm-specific, crop-specific, and climatic and soil parameters as detailed in Appendix @tbl-params. \n",
    "\n",
    "To enhance the existing modeling framework, we have identified three key data sources:\n"
   ]
  },
  {
   "cell_type": "markdown",
   "id": "2b109c9a-a144-406c-ba82-1d19c788d3bb",
   "metadata": {},
   "source": [
    "First, farm data collected by the LiteFarm team covers 124 farms throughout Canada, providing details such as geographic locations, farm sizes, type of crop planted, and estimated yield (@fig-farms and Appendix @tbl-params). \n",
    "\n",
    "![Distribution of 123 farms across Canada from the LiteFarm Database. The map displays farm locations with red stars: 78 in Western Canada (left, \"Western Canada Focus\") and 45 in Eastern Canada (right, \"Eastern Canada Focus\")](../../img/Canada_Farm_Map.png){#fig-farms}  "
   ]
  },
  {
   "cell_type": "markdown",
   "id": "0eccef33-d0a0-4ef7-ba0c-3c1998200145",
   "metadata": {},
   "source": [
    "Second, based on farms’ geographic locations, we will integrate high-quality soil and climate parameters from external databases (identified in @fig-databases).\n",
    "\n",
    "![Overview of External Databases - Detailing databases from the FAO, Canadian SLC, and NASA, including their names, data types, and data formats.](../../img/fig_2.png){#fig-databases}\n",
    "\n",
    "Third, the Holos frame limits crop-specific parameters to a limited set of crop types, excluding many crop varieties found in LiteFarm data. These parameters are also static and lack specified ranges, limiting our ability to assess their variability. To address these limitations, we plan to expand and refine the crop-specific parameters using data from peer-reviewed articles and government reports."
   ]
  },
  {
   "cell_type": "markdown",
   "id": "3c92f764-a6b8-4136-b1fb-ebd5cf2a1750",
   "metadata": {},
   "source": [
    "### Data Management Plan\n",
    "\n",
    "\n",
    "* Climate Data: Scripts will be provided to automate NASA POWER Project API calls and data download.\n",
    "* Soil data: Due to their large size, scripts for downloading and setting up these datasets will be provided. \n",
    "* Crop Data: Data will be stored directly in the repository in CSV format."
   ]
  },
  {
   "cell_type": "markdown",
   "id": "7d5c6d46-e592-4cdf-b955-82be4a6885aa",
   "metadata": {},
   "source": [
    "## Method and techniques\n",
    "\n",
    "The project aims to enhance the LiteFarm dashboard by integrating a GHG emission (nitrous oxide from crop residual nitrogen) estimation feature. Our initial task is to develop a Python script replicating the Holos model to serve as a baseline. This model will retrieve farm data from the LiteFarm database. Next, we will enhance the model to support multiple input variables. Data from external sources will be retrieved through API calls. In parallel, we will conduct sensitivity analyses to identify key drivers of GHG emission changes across different conditions. \n",
    "\n",
    "The dashboard will be updated with a Farmer tab and a Scientist tab. The Farmer tab displays GHG emission data for selected farms, and the Scientist tab provides sensitivity analysis results, highlighting influential factors for emissions estimates.\n",
    "\n",
    "\n",
    "## Partner’s expectation:\n",
    "\n",
    "LiteFarm expects the setup of an emission tab on the dashboard to showcase emission data for crop residual nitrogen direct emissions of selected farms. A successful outcome would include validating LiteFarm’s GHG model against the Holos desktop version to ensure that the estimations are reasonable and reliable.\n",
    "\n",
    "\n",
    "## Success criteria\n",
    "\n",
    "To meet partner’s expectation, we have set the following success criteria:\n",
    "\n",
    "\n",
    "\n",
    "1. Precision in GHG Estimation: A more precise GHG estimation will be assessed by comparing GHG estimates against those produced by Holos software. \n",
    "2. Flexibility in Input Handling: Success will be evaluated by the system’s ability to accept a range of input variables, thereby providing more flexible and practical calculations for users. \n",
    "3. Uncertainty Measurement: Providing outputs with uncertainty measurements from the sensitivity analysis will help users understand the reliability of the GHG estimates and make informed decisions. \n",
    "4. Dashboard Enhancement: The effective establishment of Farmer and Scientist tabs within the LiteFarm dashboard will facilitate communication by showcasing GHG estimation results and insights from sensitivity analysis."
   ]
  },
  {
   "cell_type": "markdown",
   "id": "98cbb1b9-1be3-4413-aacc-9a573157d6b6",
   "metadata": {},
   "source": [
    "<div style=\"page-break-after: always;\"></div>"
   ]
  },
  {
   "cell_type": "markdown",
   "id": "5683b54d",
   "metadata": {},
   "source": [
    "# Timeline\n"
   ]
  },
  {
   "cell_type": "markdown",
   "id": "718b3d93",
   "metadata": {},
   "source": [
    "| Date                 | Milestone                                  |\n",
    "|----------------------|--------------------------------------------|\n",
    "| Week 1: 29 April - 5 May | - Define project questions / objectives<br>- Initial EDA<br>- Explore external data |\n",
    "| Week 2: 6th - 12th May | - Establish GHG model<br>- Project Proposal |\n",
    "| Week 3: 13th - 19th May | - Refine GHG model<br>- Conduct sensitivity analysis |\n",
    "| Week 4: 20th - 26th May | - Sensitivity analysis:<br>- Integrate external data<br>- Pinpoint key variables |\n",
    "| Week 5: 27th May - 2 June | - Set up initial dashboard version |\n",
    "| Week 6: 3rd - 9th June | - Refine dashboard |\n",
    "| Week 7: 10th - 16th June | - Capstone presentation<br>- Draft final report |\n",
    "| Week 8: 17th - 23rd June | - Finalize dashboard<br>- Complete final report |\n",
    ": Timeline of the project {#tbl-timeline .striped}"
   ]
  },
  {
   "cell_type": "markdown",
   "id": "58976245-7c3e-4b05-a4a1-578495657d0c",
   "metadata": {},
   "source": [
    "# References\n",
    "\n",
    "::: {#refs}\n",
    ":::"
   ]
  },
  {
   "cell_type": "markdown",
   "id": "d22f174b-345a-4a0f-8fac-115e6abd557f",
   "metadata": {},
   "source": [
    "<div style=\"page-break-after: always;\"></div>"
   ]
  },
  {
   "cell_type": "markdown",
   "id": "eb53384b",
   "metadata": {},
   "source": [
    "# Appendix \n",
    "\n",
    "::: {.appendix}\n",
    ":::\n",
    "\n",
    "|Parameters|Explanation|Type|Data source|\n",
    "|---|---|---|---|\n",
    "| Farm | A unique identifier, each represents a specific farm | Farm-specific | LiteFarm |\n",
    "| Crop common name | Text, common names of the crop grown by the farm, e.g., soybeans, wheat, and etc. | Farm-specific | LiteFarm |\n",
    "| Total area (ha) | Numerical, total area of the farm | Farm-specific | LiteFarm |\n",
    "| Estimated yield (kg / ha) | Numerical, the estimated yield | Farm-specific | LiteFarm |\n",
    "| Lifecycle | Binary, perennial or annual | Farm-specific | LiteFarm |\n",
    "| Province | Required by existing Holos framework | Farm-specific | Team extracted |\n",
    "| Moisture (%) | Moisture content of product | Crop-related | Holos default/External information |\n",
    "| N_p | N concentration in the product (kg kg-1) | Crop-related | Holos default/External information |\n",
    "| N_s | N concentration in the straw (kg kg-1) | Crop-related | Holos default/External information |\n",
    "| R_s | Relative biomass allocation coefficient for straw | Crop-related | Holos default/External information |\n",
    "| R_p | Relative biomass allocation coefficient for product | Crop-related | Holos default/External information |\n",
    "| N_r | N concentration in the roots (kg kg-1) | Crop-related | Holos default/External information |\n",
    "| N_e | N concentration in the extra root material (kg kg-1) (until known from literature, the same N concentration used for roots will be utilized) | Crop-related | Holos default/External information |\n",
    "| R_r | Relative biomass allocation coefficient for roots | Crop-related | Holos default/External information |\n",
    "| R_e | Relative biomass allocation coefficient for extra-root material\t | Crop-related | Holos default/External information |\n",
    "| RF_CS | Reduction factor for Cropping System | Crop-related | Holos default/External information |\n",
    "| RF_NS | N source modifier RF_NSk (SN = Synthetic Nitrogen; ON = Organic Nitrogen; CRN = Crop Residue Nitrogen) | Crop-related | Holos default/External information |\n",
    "| RF_AM | Reduction factor based on application method, only applicable to calculations of EF specific for SN | Crop-related | Holos default/External information |\n",
    "| P_i | Annual growing season precipitation (May – October), in ecodistrict “i” (mm) | Climate-related | Holos default/External information |\n",
    "| PE | Growing season potential evapotranspiration, by ecodistrict (May – October) | Climate-related | Holos default/External information |\n",
    "| FR_Topo | FR_topo_i: Fraction of land occupied by lower portions of landscape | Soil-related | Holos default/External information |\n",
    "| RF_TX | RF_TX i/j/i,j weighted modifier which provides a correction of the EF_Topo in ecodistrict ‘‘i’’ based on the soil texture | Soil-related | Holos default/External information |\n",
    "| RF_till | Tillage modifier RF_Till (Conservation or Conventional Tillage) | Soil-crop-related | Holos default/External information |\n",
    "\n",
    ": Input requirements for Holos GHG model {#tbl-params .striped}"
   ]
  },
  {
   "cell_type": "code",
   "execution_count": null,
   "id": "f1da8251-76c0-44ae-9a78-c1c95b248f0b",
   "metadata": {},
   "outputs": [],
   "source": []
  }
 ],
 "metadata": {
  "kernelspec": {
   "display_name": "Python 3 (ipykernel)",
   "language": "python",
   "name": "python3"
  },
  "language_info": {
   "codemirror_mode": {
    "name": "ipython",
    "version": 3
   },
   "file_extension": ".py",
   "mimetype": "text/x-python",
   "name": "python",
   "nbconvert_exporter": "python",
   "pygments_lexer": "ipython3",
   "version": "3.11.6"
  }
 },
 "nbformat": 4,
 "nbformat_minor": 5
}
